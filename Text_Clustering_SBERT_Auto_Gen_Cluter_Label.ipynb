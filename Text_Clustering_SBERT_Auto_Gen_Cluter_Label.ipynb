{
 "cells": [
  {
   "cell_type": "code",
   "execution_count": 9,
   "id": "dd37c755",
   "metadata": {},
   "outputs": [
    {
     "name": "stdout",
     "output_type": "stream",
     "text": [
      "Requirement already satisfied: sentence-transformers in c:\\users\\bishw\\appdata\\local\\programs\\python\\python38\\lib\\site-packages (2.1.0)\n",
      "Requirement already satisfied: transformers<5.0.0,>=4.6.0 in c:\\users\\bishw\\appdata\\local\\programs\\python\\python38\\lib\\site-packages (from sentence-transformers) (4.11.0)\n",
      "Requirement already satisfied: tokenizers>=0.10.3 in c:\\users\\bishw\\appdata\\local\\programs\\python\\python38\\lib\\site-packages (from sentence-transformers) (0.10.3)\n",
      "Requirement already satisfied: tqdm in c:\\users\\bishw\\appdata\\local\\programs\\python\\python38\\lib\\site-packages (from sentence-transformers) (4.62.3)\n",
      "Requirement already satisfied: torch>=1.6.0 in c:\\users\\bishw\\appdata\\local\\programs\\python\\python38\\lib\\site-packages (from sentence-transformers) (1.10.2)\n",
      "Requirement already satisfied: torchvision in c:\\users\\bishw\\appdata\\local\\programs\\python\\python38\\lib\\site-packages (from sentence-transformers) (0.11.3)\n",
      "Requirement already satisfied: numpy in c:\\users\\bishw\\appdata\\local\\programs\\python\\python38\\lib\\site-packages (from sentence-transformers) (1.22.1)\n",
      "Requirement already satisfied: scikit-learn in c:\\users\\bishw\\appdata\\local\\programs\\python\\python38\\lib\\site-packages (from sentence-transformers) (1.0.2)\n",
      "Requirement already satisfied: scipy in c:\\users\\bishw\\appdata\\local\\programs\\python\\python38\\lib\\site-packages (from sentence-transformers) (1.7.3)\n",
      "Requirement already satisfied: nltk in c:\\users\\bishw\\appdata\\local\\programs\\python\\python38\\lib\\site-packages (from sentence-transformers) (3.6.5)\n",
      "Requirement already satisfied: sentencepiece in c:\\users\\bishw\\appdata\\local\\programs\\python\\python38\\lib\\site-packages (from sentence-transformers) (0.1.96)\n",
      "Requirement already satisfied: huggingface-hub in c:\\users\\bishw\\appdata\\local\\programs\\python\\python38\\lib\\site-packages (from sentence-transformers) (0.4.0)\n",
      "Requirement already satisfied: typing-extensions in c:\\users\\bishw\\appdata\\local\\programs\\python\\python38\\lib\\site-packages (from torch>=1.6.0->sentence-transformers) (4.0.1)\n",
      "Requirement already satisfied: requests in c:\\users\\bishw\\appdata\\local\\programs\\python\\python38\\lib\\site-packages (from transformers<5.0.0,>=4.6.0->sentence-transformers) (2.27.1)\n",
      "Requirement already satisfied: packaging>=20.0 in c:\\users\\bishw\\appdata\\local\\programs\\python\\python38\\lib\\site-packages (from transformers<5.0.0,>=4.6.0->sentence-transformers) (21.3)\n",
      "Requirement already satisfied: pyyaml>=5.1 in c:\\users\\bishw\\appdata\\local\\programs\\python\\python38\\lib\\site-packages (from transformers<5.0.0,>=4.6.0->sentence-transformers) (6.0)\n",
      "Requirement already satisfied: filelock in c:\\users\\bishw\\appdata\\local\\programs\\python\\python38\\lib\\site-packages (from transformers<5.0.0,>=4.6.0->sentence-transformers) (3.4.2)\n",
      "Requirement already satisfied: sacremoses in c:\\users\\bishw\\appdata\\local\\programs\\python\\python38\\lib\\site-packages (from transformers<5.0.0,>=4.6.0->sentence-transformers) (0.0.47)\n",
      "Requirement already satisfied: regex!=2019.12.17 in c:\\users\\bishw\\appdata\\local\\programs\\python\\python38\\lib\\site-packages (from transformers<5.0.0,>=4.6.0->sentence-transformers) (2022.1.18)\n",
      "Requirement already satisfied: colorama in c:\\users\\bishw\\appdata\\local\\programs\\python\\python38\\lib\\site-packages (from tqdm->sentence-transformers) (0.4.4)\n",
      "Requirement already satisfied: joblib in c:\\users\\bishw\\appdata\\local\\programs\\python\\python38\\lib\\site-packages (from nltk->sentence-transformers) (1.1.0)\n",
      "Requirement already satisfied: click in c:\\users\\bishw\\appdata\\local\\programs\\python\\python38\\lib\\site-packages (from nltk->sentence-transformers) (8.0.3)\n",
      "Requirement already satisfied: threadpoolctl>=2.0.0 in c:\\users\\bishw\\appdata\\local\\programs\\python\\python38\\lib\\site-packages (from scikit-learn->sentence-transformers) (3.0.0)\n",
      "Requirement already satisfied: pillow!=8.3.0,>=5.3.0 in c:\\users\\bishw\\appdata\\local\\programs\\python\\python38\\lib\\site-packages (from torchvision->sentence-transformers) (9.0.0)\n",
      "Requirement already satisfied: pyparsing!=3.0.5,>=2.0.2 in c:\\users\\bishw\\appdata\\local\\programs\\python\\python38\\lib\\site-packages (from packaging>=20.0->transformers<5.0.0,>=4.6.0->sentence-transformers) (3.0.7)\n",
      "Requirement already satisfied: charset-normalizer~=2.0.0 in c:\\users\\bishw\\appdata\\local\\programs\\python\\python38\\lib\\site-packages (from requests->transformers<5.0.0,>=4.6.0->sentence-transformers) (2.0.10)\n",
      "Requirement already satisfied: idna<4,>=2.5 in c:\\users\\bishw\\appdata\\local\\programs\\python\\python38\\lib\\site-packages (from requests->transformers<5.0.0,>=4.6.0->sentence-transformers) (3.3)\n",
      "Requirement already satisfied: certifi>=2017.4.17 in c:\\users\\bishw\\appdata\\local\\programs\\python\\python38\\lib\\site-packages (from requests->transformers<5.0.0,>=4.6.0->sentence-transformers) (2021.10.8)\n",
      "Requirement already satisfied: urllib3<1.27,>=1.21.1 in c:\\users\\bishw\\appdata\\local\\programs\\python\\python38\\lib\\site-packages (from requests->transformers<5.0.0,>=4.6.0->sentence-transformers) (1.26.8)\n",
      "Requirement already satisfied: six in c:\\users\\bishw\\appdata\\local\\programs\\python\\python38\\lib\\site-packages (from sacremoses->transformers<5.0.0,>=4.6.0->sentence-transformers) (1.16.0)\n",
      "Collecting texthero\n",
      "  Using cached texthero-1.1.0-py3-none-any.whl (24 kB)\n",
      "Requirement already satisfied: plotly>=4.2.0 in c:\\users\\bishw\\appdata\\roaming\\python\\python38\\site-packages (from texthero) (5.5.0)\n",
      "Requirement already satisfied: tqdm>=4.3 in c:\\users\\bishw\\appdata\\local\\programs\\python\\python38\\lib\\site-packages (from texthero) (4.62.3)\n",
      "Collecting pandas>=1.0.2\n",
      "  Using cached pandas-1.4.0-cp38-cp38-win_amd64.whl (10.6 MB)\n",
      "Requirement already satisfied: numpy>=1.17 in c:\\users\\bishw\\appdata\\local\\programs\\python\\python38\\lib\\site-packages (from texthero) (1.22.1)\n",
      "Collecting gensim<4.0,>=3.6.0\n",
      "  Using cached gensim-3.8.3-cp38-cp38-win_amd64.whl (24.2 MB)\n",
      "Requirement already satisfied: wordcloud>=1.5.0 in c:\\users\\bishw\\appdata\\roaming\\python\\python38\\site-packages (from texthero) (1.8.1)\n",
      "Requirement already satisfied: matplotlib>=3.1.0 in c:\\users\\bishw\\appdata\\roaming\\python\\python38\\site-packages (from texthero) (3.5.1)\n",
      "Requirement already satisfied: spacy<3.0.0 in c:\\users\\bishw\\appdata\\roaming\\python\\python38\\site-packages (from texthero) (2.3.7)\n",
      "Requirement already satisfied: nltk>=3.3 in c:\\users\\bishw\\appdata\\local\\programs\\python\\python38\\lib\\site-packages (from texthero) (3.6.5)\n",
      "Requirement already satisfied: unidecode>=1.1.1 in c:\\users\\bishw\\appdata\\roaming\\python\\python38\\site-packages (from texthero) (1.3.2)\n",
      "Requirement already satisfied: scikit-learn>=0.22 in c:\\users\\bishw\\appdata\\local\\programs\\python\\python38\\lib\\site-packages (from texthero) (1.0.2)\n",
      "Requirement already satisfied: six>=1.5.0 in c:\\users\\bishw\\appdata\\local\\programs\\python\\python38\\lib\\site-packages (from gensim<4.0,>=3.6.0->texthero) (1.16.0)\n",
      "Requirement already satisfied: smart-open>=1.8.1 in c:\\users\\bishw\\appdata\\roaming\\python\\python38\\site-packages (from gensim<4.0,>=3.6.0->texthero) (5.2.1)\n",
      "Requirement already satisfied: scipy>=0.18.1 in c:\\users\\bishw\\appdata\\local\\programs\\python\\python38\\lib\\site-packages (from gensim<4.0,>=3.6.0->texthero) (1.7.3)\n",
      "Requirement already satisfied: Cython==0.29.14 in c:\\users\\bishw\\appdata\\roaming\\python\\python38\\site-packages (from gensim<4.0,>=3.6.0->texthero) (0.29.14)\n",
      "Requirement already satisfied: pyparsing>=2.2.1 in c:\\users\\bishw\\appdata\\local\\programs\\python\\python38\\lib\\site-packages (from matplotlib>=3.1.0->texthero) (3.0.7)\n",
      "Requirement already satisfied: fonttools>=4.22.0 in c:\\users\\bishw\\appdata\\local\\programs\\python\\python38\\lib\\site-packages (from matplotlib>=3.1.0->texthero) (4.29.0)\n",
      "Requirement already satisfied: kiwisolver>=1.0.1 in c:\\users\\bishw\\appdata\\local\\programs\\python\\python38\\lib\\site-packages (from matplotlib>=3.1.0->texthero) (1.3.2)\n",
      "Requirement already satisfied: pillow>=6.2.0 in c:\\users\\bishw\\appdata\\local\\programs\\python\\python38\\lib\\site-packages (from matplotlib>=3.1.0->texthero) (9.0.0)\n",
      "Requirement already satisfied: python-dateutil>=2.7 in c:\\users\\bishw\\appdata\\local\\programs\\python\\python38\\lib\\site-packages (from matplotlib>=3.1.0->texthero) (2.8.2)\n",
      "Requirement already satisfied: cycler>=0.10 in c:\\users\\bishw\\appdata\\roaming\\python\\python38\\site-packages (from matplotlib>=3.1.0->texthero) (0.11.0)\n",
      "Requirement already satisfied: packaging>=20.0 in c:\\users\\bishw\\appdata\\local\\programs\\python\\python38\\lib\\site-packages (from matplotlib>=3.1.0->texthero) (21.3)\n",
      "Requirement already satisfied: regex>=2021.8.3 in c:\\users\\bishw\\appdata\\local\\programs\\python\\python38\\lib\\site-packages (from nltk>=3.3->texthero) (2022.1.18)\n",
      "Requirement already satisfied: click in c:\\users\\bishw\\appdata\\local\\programs\\python\\python38\\lib\\site-packages (from nltk>=3.3->texthero) (8.0.3)\n",
      "Requirement already satisfied: joblib in c:\\users\\bishw\\appdata\\local\\programs\\python\\python38\\lib\\site-packages (from nltk>=3.3->texthero) (1.1.0)\n",
      "Requirement already satisfied: pytz>=2020.1 in c:\\users\\bishw\\appdata\\roaming\\python\\python38\\site-packages (from pandas>=1.0.2->texthero) (2021.3)\n",
      "Requirement already satisfied: tenacity>=6.2.0 in c:\\users\\bishw\\appdata\\roaming\\python\\python38\\site-packages (from plotly>=4.2.0->texthero) (8.0.1)\n",
      "Requirement already satisfied: threadpoolctl>=2.0.0 in c:\\users\\bishw\\appdata\\local\\programs\\python\\python38\\lib\\site-packages (from scikit-learn>=0.22->texthero) (3.0.0)\n",
      "Requirement already satisfied: requests<3.0.0,>=2.13.0 in c:\\users\\bishw\\appdata\\local\\programs\\python\\python38\\lib\\site-packages (from spacy<3.0.0->texthero) (2.27.1)\n",
      "Requirement already satisfied: srsly<1.1.0,>=1.0.2 in c:\\users\\bishw\\appdata\\local\\programs\\python\\python38\\lib\\site-packages (from spacy<3.0.0->texthero) (1.0.5)\n",
      "Requirement already satisfied: wasabi<1.1.0,>=0.4.0 in c:\\users\\bishw\\appdata\\local\\programs\\python\\python38\\lib\\site-packages (from spacy<3.0.0->texthero) (0.9.0)\n",
      "Requirement already satisfied: preshed<3.1.0,>=3.0.2 in c:\\users\\bishw\\appdata\\local\\programs\\python\\python38\\lib\\site-packages (from spacy<3.0.0->texthero) (3.0.6)\n",
      "Requirement already satisfied: setuptools in c:\\users\\bishw\\appdata\\local\\programs\\python\\python38\\lib\\site-packages (from spacy<3.0.0->texthero) (60.5.0)\n",
      "Requirement already satisfied: thinc<7.5.0,>=7.4.1 in c:\\users\\bishw\\appdata\\roaming\\python\\python38\\site-packages (from spacy<3.0.0->texthero) (7.4.5)\n",
      "Requirement already satisfied: cymem<2.1.0,>=2.0.2 in c:\\users\\bishw\\appdata\\local\\programs\\python\\python38\\lib\\site-packages (from spacy<3.0.0->texthero) (2.0.6)\n",
      "Requirement already satisfied: plac<1.2.0,>=0.9.6 in c:\\users\\bishw\\appdata\\local\\programs\\python\\python38\\lib\\site-packages (from spacy<3.0.0->texthero) (1.1.3)\n",
      "Requirement already satisfied: murmurhash<1.1.0,>=0.28.0 in c:\\users\\bishw\\appdata\\local\\programs\\python\\python38\\lib\\site-packages (from spacy<3.0.0->texthero) (1.0.6)\n",
      "Requirement already satisfied: catalogue<1.1.0,>=0.0.7 in c:\\users\\bishw\\appdata\\roaming\\python\\python38\\site-packages (from spacy<3.0.0->texthero) (1.0.0)\n",
      "Requirement already satisfied: blis<0.8.0,>=0.4.0 in c:\\users\\bishw\\appdata\\roaming\\python\\python38\\site-packages (from spacy<3.0.0->texthero) (0.7.5)\n",
      "Requirement already satisfied: colorama in c:\\users\\bishw\\appdata\\local\\programs\\python\\python38\\lib\\site-packages (from tqdm>=4.3->texthero) (0.4.4)\n",
      "Requirement already satisfied: certifi>=2017.4.17 in c:\\users\\bishw\\appdata\\local\\programs\\python\\python38\\lib\\site-packages (from requests<3.0.0,>=2.13.0->spacy<3.0.0->texthero) (2021.10.8)\n",
      "Requirement already satisfied: charset-normalizer~=2.0.0 in c:\\users\\bishw\\appdata\\local\\programs\\python\\python38\\lib\\site-packages (from requests<3.0.0,>=2.13.0->spacy<3.0.0->texthero) (2.0.10)\n",
      "Requirement already satisfied: urllib3<1.27,>=1.21.1 in c:\\users\\bishw\\appdata\\local\\programs\\python\\python38\\lib\\site-packages (from requests<3.0.0,>=2.13.0->spacy<3.0.0->texthero) (1.26.8)\n",
      "Requirement already satisfied: idna<4,>=2.5 in c:\\users\\bishw\\appdata\\local\\programs\\python\\python38\\lib\\site-packages (from requests<3.0.0,>=2.13.0->spacy<3.0.0->texthero) (3.3)\n",
      "Installing collected packages: pandas, gensim, texthero\n",
      "Successfully installed gensim-3.8.3 pandas-1.4.0 texthero-1.1.0\n"
     ]
    }
   ],
   "source": [
    "!python -m pip install -U sentence-transformers\n",
    "!python -m pip install texthero\n",
    "!python -m pip install zeroshot_topics"
   ]
  },
  {
   "cell_type": "code",
   "execution_count": 1,
   "id": "419b7243",
   "metadata": {},
   "outputs": [],
   "source": [
    "import pandas as pd\n",
    "df = pd.read_csv(r\"C:\\Users\\bishw\\Downloads\\complaint_data.csv\")\n",
    "\n",
    "df.head()\n",
    "\n",
    "df1 = df.loc[:,['Complaint ID','Consumer complaint narrative']].copy(deep = True)\n",
    "\n",
    "df1.head()\n",
    "\n",
    "df1.dropna(inplace = True)\n",
    "\n"
   ]
  },
  {
   "cell_type": "code",
   "execution_count": 2,
   "id": "1c59f0f8",
   "metadata": {},
   "outputs": [
    {
     "name": "stderr",
     "output_type": "stream",
     "text": [
      "[nltk_data] Downloading package punkt to\n",
      "[nltk_data]     C:\\Users\\bishw\\AppData\\Roaming\\nltk_data...\n",
      "[nltk_data]   Package punkt is already up-to-date!\n"
     ]
    }
   ],
   "source": [
    "import texthero as hero\n",
    "import nltk\n",
    "nltk.download('punkt')\n",
    "\n",
    "\n",
    "dfsample = df1.sample(5000)\n",
    "\n",
    "from nltk.tokenize import sent_tokenize\n",
    "s = dfsample[\"Consumer complaint narrative\"].apply(lambda x : sent_tokenize(x)).apply(pd.Series,1).stack()\n",
    "\n",
    "\n",
    "s = pd.DataFrame(s, columns = ['Broken_Survey'])\n",
    "s.head()\n",
    "\n",
    "s['Broken_Survey'] = hero.clean(s['Broken_Survey'])\n",
    "\n",
    "\n",
    "\n",
    "\n"
   ]
  },
  {
   "cell_type": "code",
   "execution_count": 3,
   "id": "734aeb9a",
   "metadata": {},
   "outputs": [
    {
     "name": "stderr",
     "output_type": "stream",
     "text": [
      "c:\\users\\bishw\\appdata\\local\\programs\\python\\python38\\lib\\site-packages\\transformers\\configuration_utils.py:336: UserWarning: Passing `gradient_checkpointing` to a config initialization is deprecated and will be removed in v5 Transformers. Using `model.gradient_checkpointing_enable()` instead, or if you are using the `Trainer` API, pass `gradient_checkpointing=True` in your `TrainingArguments`.\n",
      "  warnings.warn(\n"
     ]
    },
    {
     "data": {
      "application/vnd.jupyter.widget-view+json": {
       "model_id": "ccdad6acca9f45da9e61d177f2de3f96",
       "version_major": 2,
       "version_minor": 0
      },
      "text/plain": [
       "Batches:   0%|          | 0/1435 [00:00<?, ?it/s]"
      ]
     },
     "metadata": {},
     "output_type": "display_data"
    },
    {
     "name": "stderr",
     "output_type": "stream",
     "text": [
      "c:\\users\\bishw\\appdata\\local\\programs\\python\\python38\\lib\\site-packages\\transformers\\tokenization_utils_base.py:2227: UserWarning: `max_length` is ignored when `padding`=`True`.\n",
      "  warnings.warn(\"`max_length` is ignored when `padding`=`True`.\")\n"
     ]
    }
   ],
   "source": [
    "from sentence_transformers import SentenceTransformer\n",
    "model = SentenceTransformer('all-MiniLM-L6-v2')\n",
    "\n",
    "sentences = s.Broken_Survey.to_list()\n",
    "sentence_embeddings = model.encode(sentences, show_progress_bar=True)"
   ]
  },
  {
   "cell_type": "code",
   "execution_count": 4,
   "id": "ec730c03",
   "metadata": {},
   "outputs": [
    {
     "name": "stdout",
     "output_type": "stream",
     "text": [
      "Start clustering\n",
      "Clustering done after 15.39 sec\n",
      "\n",
      "Cluster 1, #406 Elements \n",
      "\t \n",
      "\t \n",
      "\t \n",
      "\t ...\n",
      "\t \n",
      "\t \n",
      "\t \n",
      "\n",
      "Cluster 2, #307 Elements \n",
      "\t xxxx xxxx\n",
      "\t xxxx xxxx\n",
      "\t xxxx xxxx\n",
      "\t ...\n",
      "\t back xxxx xxxx\n",
      "\t xxxx xxxx years\n",
      "\t xxxx thanks\n",
      "\n",
      "Cluster 3, #134 Elements \n",
      "\t please help\n",
      "\t please help\n",
      "\t please help\n",
      "\t ...\n",
      "\t thank help\n",
      "\t thank help\n",
      "\t thank help\n",
      "\n",
      "Cluster 4, #122 Elements \n",
      "\t thank\n",
      "\t thank\n",
      "\t thank\n",
      "\t ...\n",
      "\t thanks\n",
      "\t thanks\n",
      "\t thanks\n",
      "\n",
      "Cluster 5, #118 Elements \n",
      "\t account incorrect reporting credit reports xxxx xxxx xxxx xxxx xxxx xxxx\n",
      "\t xxxx xxxx xxxx account number xxxx reporting erroneous collection credit report\n",
      "\t account reported xxxx credit report affecting credit\n",
      "\t ...\n",
      "\t dispute placed credit report\n",
      "\t please help removing credit destroyed erroneous report\n",
      "\t credit bureau reporting inaccurate information report\n",
      "\n",
      "Cluster 6, #95 Elements \n",
      "\t payment xxxx xxxx xxxx made payment xxxx\n",
      "\t payment made xxxx xxxx xxxx\n",
      "\t paid xxxx payment xxxx xxxx\n",
      "\t ...\n",
      "\t still confused credit got xxxx payment xxxx payment\n",
      "\t paid check xxxx xxxx xxxx xxxx\n",
      "\t paid xxxx xxxx xxxx also xxxx xxxx xxxx\n",
      "\n",
      "Cluster 7, #76 Elements \n",
      "\t contacted company companies agreed request removal inquiry credit report\n",
      "\t requesting companies creditor remove inquiries associated companys credit report\n",
      "\t inquiries authorized report include xxxx xxxx xxxx xxxx xxxx called removed company stated could n remove credit bureau remove\n",
      "\t ...\n",
      "\t unauthorized inquiry credit report\n",
      "\t reps refused remove inquiry therefore affecting credit report negative manner\n",
      "\t disputed equifax online results said credit inquiry manually removed\n",
      "\n",
      "Cluster 8, #75 Elements \n",
      "\t stated victim identity theft\n",
      "\t victim identity theft\n",
      "\t victim identity theft\n",
      "\t ...\n",
      "\t victim identity theft dealing shutting accounts social governmental financial anything everything name birthday social\n",
      "\t xxxx xxxx client xxxx xxxx identity theft victim\n",
      "\t victim identity theft debt belong\n",
      "\n",
      "Cluster 9, #61 Elements \n",
      "\t unaware saw late payment credit report\n",
      "\t reason realized late payment credit report\n",
      "\t reason realized late payment credit report\n",
      "\t ...\n",
      "\t received confirmation late payments taken equifax report\n",
      "\t also asked representative phone said late payment reported three credit bureaus\n",
      "\t payment history reported late xxxx xxxx filing date\n",
      "\n",
      "Cluster 10, #58 Elements \n",
      "\t xxxx xxxx xxxx xxxx trying collect debt owed\n",
      "\t xxxx xxxx trying collect unknown debt xxxx xxxx xxxx amount dated xx xx\n",
      "\t claimed collecting debt xxxx\n",
      "\t ...\n",
      "\t notice debt contains original creditors xxxx xxxx xxxx\n",
      "\t sure debt trying collect sent letter\n",
      "\t liable debt xxxx xxxx xxxx\n",
      "\n",
      "Cluster 11, #55 Elements \n",
      "\t equifax report xxxx xxxx xxxx xxxx xxxx\n",
      "\t xxxx report see xxxx xxxx equifax\n",
      "\t xxxx reports xx xx xxxx xxxx reports xx xx xxxx equifax reports xx xx xxxx\n",
      "\t ...\n",
      "\t try access report equifax com youll see mean\n",
      "\t would like investigate equifax also xxxx complaint made xx xx another consumer\n",
      "\t called equifax xx xx xxxx inform credit report dated xx xx indicated score xxxx\n",
      "\n",
      "Cluster 12, #41 Elements \n",
      "\t account xxxx account\n",
      "\t account xxxx xxxx\n",
      "\t account xxxx xxxx xxxx\n",
      "\t ...\n",
      "\t accounts\n",
      "\t accounts\n",
      "\t xxxx fraud account\n",
      "\n",
      "Cluster 13, #41 Elements \n",
      "\t requested validation said debt gotten\n",
      "\t requested information directly asking validation debt\n",
      "\t asked validate debt\n",
      "\t ...\n",
      "\t would like request validation debt time repossession xx xx xxxx validation current debt reported credit\n",
      "\t asked verification debt mine\n",
      "\t sent follow letter requesting debt validated verified anyone look computer screen see name verify debt\n",
      "\n",
      "Cluster 14, #40 Elements \n",
      "\t fair credit reporting act says\n",
      "\t according fair credit reporting act\n",
      "\t violation fair credit reporting act\n",
      "\t ...\n",
      "\t contention fair credit reporting act requires credit bureaus report manner fair equitable consumer possibility misinterpretation\n",
      "\t understand per fair credit reporting act required notify investigation results within days\n",
      "\t third time violated rights fair credit reporting act\n",
      "\n",
      "Cluster 15, #37 Elements \n",
      "\t xxxx xxxx xxxx received phone call\n",
      "\t received phone call xxxx xxxx xxxx xxxx xxxx xx xx\n",
      "\t received phone call xxxx xxxx xxxx xxxx xxxx xxxx xxxx\n",
      "\t ...\n",
      "\t call xxxx xxxx xxxx xxxx xxxx\n",
      "\t xxxx times customer service person told someone would call\n",
      "\t receiving repeated calls xxxx xxxx phone number xxxx ext xxxx\n",
      "\n",
      "Cluster 16, #37 Elements \n",
      "\t made complaint regarding xxxx xxxx xxxx\n",
      "\t initial complaint xx xx xxxx\n",
      "\t regarding previous complaint xxxx\n",
      "\t ...\n",
      "\t received call xxxx regulatory complaints\n",
      "\t complaint detailed\n",
      "\t please assist complaint\n",
      "\n",
      "Cluster 17, #35 Elements \n",
      "\t xxxx xxxx xxxx xxxx xxxx xxxx xxxx xxxx xxxx xxxx xxxx xxxx xxxx xxxx xxxx xxxx xxxx xxxx xxxx xxxx xxxx xxxx xxxx xxxx xxxx xxxx xxxx xxxx xxxx\n",
      "\t xxxx xxxx xxxx xxxx xxxx xxxx xxxx xxxx xxxx xxxx xxxx xxxx xxxx xxxx xxxx xxxx xxxx xxxx xxxx xxxx xxxx\n",
      "\t xxxx xxxx xxxx xxxx xxxx xxxx xxxx xxxx xxxx xxxx xxxx xxxx xxxx xxxx xxxx xxxx xxxx xxxx xxxx xxxx\n",
      "\t ...\n",
      "\t xxxx xxxx xxxx xxxx xxxxxxxxxxxx\n",
      "\t xxxx xxxx xxxx xxxx xxxxxxxxxxxx xxxx xxxx thanks\n",
      "\t xxxx xxxx xxxx xxxx xxxx xxxx xxxx xxxx xxxx xxxx xxxx xxxx xxxx xxxx xxxx xxxx xxxx xxxx xxxx xxxx xxxx xxxx xxxx xxxx xxxx xxxx xxxx xxxx xxxx xxxx xxxx xxxx xxxx xxxx xxxx xxxx xxxx xxxx xxxx xxxx xxxx xxxx xxxx xxxx xxxx xxxx xxxx xxxx xxxx xxxx xxxx xxxx xxxx xxxx xxxx xxxx xxxx xxxx xxxx xxxx xxxx xxxx xxxx xxxx xxxx xxxx xxxx xxxx xxxx xxxx xxxx xxxx xxxx xxxx xxxx xxxx xxxx xxxx xxxx xxxx xxxx xxxx xxxx xxxx xxxx xxxx xxxx xxxx xxxx xxxx xxxx xxxx xxxx xxxx xxxx xxxx xxxx xxxx xxxx xxxx xxxx xxxx xxxx xxxx xxxx xxxx xxxx xxxx xxxx xxxx xxxx xxxx xxxx xxxx page inquiries xxxx xxxx xxxx xxxx xxxx xxxx xxxx xxxx xxxx xxxx xxxx xxxx xxxx xxxx xxxx xxxx xxxx xxxx xxxx xxxx xxxx xxxx xxxx xxxx xxxx xxxx xxxx xxxx xxxx xxxx xxxx xxxx xxxx xxxx xxxx xxxx xxxx xxxx xxxx xxxx xxxx xxxx xxxx xxxx xxxx xxxx xxxx xxxx xxxx xxxx xxxx xxxx xxxx xxxx xxxx xxxx xxxx xxxx xxxx xxxx xxxx xxxx xxxx xxxx xxxx xxxx xxxx xxxx xxxx xxxx xxxx xxxx xxxx xxxx xxxx xxxx xxxx xxxx xxxx xxxx xxxx xxxx xxxx xxxx xxxx xxxx xxxx xxxx xxxx xxxx xxxx xxxx xxxx xxxx xxxx xxxx xxxx xxxx xxxx xxxx xxxx xxxx xxxx xxxx xxxx xxxx xxxx xxxx xxxx xxxx\n",
      "\n",
      "Cluster 18, #35 Elements \n",
      "\t filed complaint cfpb matter\n",
      "\t xx xx submit complaint cfpb cfpb submit complaint experian\n",
      "\t submitted 2nd complaint cfpb\n",
      "\t ...\n",
      "\t xxxx va xxxx complaint cfpb dear xxxx xxxx receipt complaint happy respond concerns\n",
      "\t forwarded complaint states attorney generals office office forwarded complaint cfpb\n",
      "\t considering cfpb complaint believe mis treated compared customers\n",
      "\n",
      "Cluster 19, #32 Elements \n",
      "\t account xxxx xxxx xxxx opened xxxx closed xxxx\n",
      "\t opened account xx xx xxxx\n",
      "\t account opened xxxx\n",
      "\t ...\n",
      "\t addition closing account concern ending xxxx also closed account ending xxxx\n",
      "\t never opened account xxxx xxxx xxxx\n",
      "\t account paid closed xxxx xxxx xxxx xxxx xxxx xxxx mers\n",
      "\n",
      "Cluster 20, #32 Elements \n",
      "\t sincerely xxxx xxxx xxxx\n",
      "\t sincerely xxxx xxxx xxxx\n",
      "\t sincerely xxxx xxxx xxxx\n",
      "\t ...\n",
      "\t sincerely xxxx xxxx xxxx xxxx xxxx xxxx xxxx fl xxxx xxxx xxxx\n",
      "\t sincerely xxxx xxxx xxxx xxxx xxxx xxxx xxxx fl xxxx xxxx dob xx xx xxxx\n",
      "\t sincerely xxxx xxxx dob xx xx xxxx xxxx xxxx xxxx xxxx xxxx fl xxxx ss xxxx xxxx xxxx\n",
      "\n",
      "Cluster 21, #31 Elements \n",
      "\t filed chapter xxxx bankruptcy xxxx xxxx xxxx\n",
      "\t filed chapter xxxx bankruptcy xx xx xxxx\n",
      "\t filed chapter xxxx bankruptcy xx xx discharged xx xx\n",
      "\t ...\n",
      "\t bankruptcy\n",
      "\t chapter xxxx bankruptcy reported xxxx xxxx equifax reporting bureaus\n",
      "\t years later put new bankruptcy added years xx xx xxxx get\n",
      "\n",
      "Cluster 22, #31 Elements \n",
      "\t received letter xx xx xxxx xxxx xxxx\n",
      "\t received letter xxxx xxxx xxxx around xx xx xxxx\n",
      "\t letters received xxxx\n",
      "\t ...\n",
      "\t receive letter xx xx information\n",
      "\t xx xx xxxx received letter via certified mail\n",
      "\t received xx xx xxxx\n",
      "\n",
      "Cluster 23, #30 Elements \n",
      "\t told debt collector looking collect debt\n",
      "\t collector sold debt trying come debt\n",
      "\t call debt collector\n",
      "\t ...\n",
      "\t never contacted debt collector recover amount\n",
      "\t collection agency contacted debt\n",
      "\t informed contacted third party debt collector\n",
      "\n",
      "Cluster 24, #30 Elements \n",
      "\t 1681c block except otherwise provided section consumer reporting agency shall block reporting information file consumer consumer identifies information resulted alleged identity theft later business days date receipt agency appropriate proof identity consumer copy identity theft report identification information consumer statement consumer information information relating transaction consumer\n",
      "\t except otherwise provided section consumer reporting agency shall block reporting information file consumer consumer identifies information resulted alleged identity theft later business days date receipt agency appropriate proof identity consumer copy identity theft report identification information consumer statement consumer information information relating transaction consumer\n",
      "\t except otherwise provided section consumer reporting agency shall block reporting information file consumer consumer identifies information resulted alleged identity theft later business days date receipt agency appropriate proof identity consumer copy identity theft report identification information consumer statement consumer information information relating transaction consumer\n",
      "\t ...\n",
      "\t person furnishes information consumer reporting agency shall place reasonable procedures respond notification receives consumer reporting agency section 1681c title relating information resulting identity theft prevent person refurnishing blocked information\n",
      "\t person furnishes information consumer reporting agency shall place reasonable procedures respond notification receives consumer reporting agency section 1681c title relating information resulting identity theft prevent person refurnishing blocked information\n",
      "\t person furnishes information consumer reporting agency shall place reasonable procedures respond notification receives consumer reporting agency section 1681c title relating information resulting identity theft prevent person refurnishing blocked information\n",
      "\n",
      "Cluster 25, #28 Elements \n",
      "\t account opened fraudulent\n",
      "\t accounts opened fraudulently\n",
      "\t previous dispute initiated fraudulently opened account\n",
      "\t ...\n",
      "\t xx xx xxxx called told account closed fraud application\n",
      "\t accounts fraudulent xxxx xxxx xxxx xxxx\n",
      "\t xxxx xxxx xxxx xxxx fraud signature verification date opened xx xx xxxx past years old account\n",
      "\n",
      "Cluster 26, #26 Elements \n",
      "\t charged late fee concerning xxxx payment\n",
      "\t charged xxxx late fees\n",
      "\t despite payment xxxx issued late fee xxxx xxxx\n",
      "\t ...\n",
      "\t wanted pay bill agreed eliminate late fees insisted pay interest charges\n",
      "\t dont pay payment within days going start charging late fees dont pay soon\n",
      "\t called told hadnt made last payment time account charged late fee\n",
      "\n",
      "Cluster 27, #26 Elements \n",
      "\t negatively affecting credit report score\n",
      "\t negatively affecting credit score\n",
      "\t affecting credit report score\n",
      "\t ...\n",
      "\t information incorrect negatively affecting credit report\n",
      "\t affected overall credit rating score\n",
      "\t ongoing issue last year negatively effected credit score\n",
      "\n",
      "Cluster 28, #26 Elements \n",
      "\t disputed account xxxx xxxx back n xx xx xxxx xxxx\n",
      "\t disputed account originally xxxx xx xx xxxx see\n",
      "\t xx xx disputed account\n",
      "\t ...\n",
      "\t account disputed several times time xxxx xxxx mail letter saying dispute item\n",
      "\t several occassions disputed xxxx xxxx xxxx xxxx xxxx xxxx account paid full creditor xx xx xxxx\n",
      "\t disputed transactions xxxx bank xx xx charges made xx xx xxxxto xx xx xxxx\n",
      "\n",
      "Cluster 29, #26 Elements \n",
      "\t xxxx xxxx xxxx xxxx xxxx credit card\n",
      "\t xxxx xxxx xxxx credit card\n",
      "\t xxxx xxxx credit card\n",
      "\t ...\n",
      "\t xxxx xxxx xxxx xxxx credit card manage via xxxx xxxx website xxxx\n",
      "\t credit cards\n",
      "\t also happening xxxx xxxx credit card xxxx xxxx xxxx xxxx\n",
      "\n",
      "Cluster 30, #25 Elements \n",
      "\t ii lawful right accordance fair debt collection practices act fdcpa sent via united states postal service letter requesting formal debt validation\n",
      "\t fair debt collection practices act fdcpa right request validation debt say owe\n",
      "\t fair debt collections practices act fdcpa request validation\n",
      "\t ...\n",
      "\t letter asked validation alleged debt fair debt collection practices act\n",
      "\t xxxx xxxx based aforementioned facts supported attached letter xxxx xxxx conduct includes following violation fdcpa usc 1692g failed cease collection debt timely disputed validated verified debt thru credit reporting agencies\n",
      "\t requesting validation made pursuant fair debt collection practices act fcra along corresponding local state laws\n",
      "\n",
      "Cluster 31, #25 Elements \n",
      "\t monthly payments paid time\n",
      "\t monthly payments\n",
      "\t monthly payments\n",
      "\t ...\n",
      "\t always made payments time\n",
      "\t always made payments time\n",
      "\t well made payments every month months\n"
     ]
    },
    {
     "data": {
      "text/plain": [
       "{0: '.....................................................................................................................................................................................................................................................................................................................................................................................................................',\n",
       " 1: 'xxxx xxxx.xxxx xxxx.xxxx xxxx.xxxx xxxx.xxxx xxxx.xxxx xxxx.xxxx xxxx.xxxx xxxx.xxxx xxxx.xxxx xxxx.xxxx xxxx.xxxx xxxx.xxxx xxxx.xxxx xxxx.xxxx xxxx.xxxx xxxx.xxxx xxxx.xxxx xxxx.xxxx xxxx.xxxx xxxx.xxxx xxxx.xxxx xxxx.xxxx xxxx.xxxx xxxx.xxxx xxxx.xxxx xxxx.xxxx xxxx.xxxx xxxx.xxxx xxxx.xxxx xxxx.xxxx xxxx.xxxx xxxx.xxxx xxxx.xxxx xxxx.xxxx xxxx.xxxx xxxx.xxxx xxxx.xxxx xxxx.xxxx xxxx.xxxx xxxx.xxxx xxxx.xxxx xxxx.xxxx xxxx.xxxx xxxx.xxxx xxxx.xxxx xxxx.xxxx xxxx.xxxx xxxx.xxxx xxxx.xxxx xxxx.xxxx xxxx.xxxx xxxx.xxxx xxxx.xxxx xxxx.xxxx xxxx.xxxx xxxx.xxxx xxxx.xxxx xxxx.xxxx xxxx.xxxx xxxx xxxx.xxxx xxxx xxxx.xxxx xxxx xxxx.xxxx xxxx xxxx.xxxx xxxx xxxx.xxxx xxxx xxxx.xxxx xxxx xxxx.xxxx xxxx xxxx.xxxx xxxx xxxx.xxxx xxxx xxxx.xxxx xxxx xxxx.xxxx xxxx xxxx.xxxx xxxx xxxx.xxxx xxxx xxxx.xxxx xxxx xxxx.xxxx xxxx xxxx.xxxx xxxx xxxx.xxxx xxxx xxxx.xxxx xxxx xxxx.xxxx xxxx xxxx.xxxx xxxx xxxx.xxxx xxxx xxxx.xxxx xxxx xxxx.xxxx xxxx xxxx.xxxx xxxx xxxx.xxxx xxxx xxxx.xxxx xxxx xxxx.xxxx xxxx xxxx.xxxx xxxx xxxx.xxxx xxxx xxxx.xxxx xxxx xxxx.xxxx xxxx xxxx.xxxx xxxx xxxx.xxxx xxxx xxxx.xxxx xxxx xxxx.xxxx xxxx xxxx.xx xx xxxx.xx xx xxxx.xx xx xxxx.xx xx xxxx.xx xx xxxx.xx xx xxxx.xx xx xxxx.xx xx xxxx.xx xx xxxx.xx xx xxxx.xx xx xxxx.xx xx xxxx.xx xx xxxx.xx xx xxxx.xx xx xxxx.xxxx.xxxx.xxxx.xxxx.xxxx.xxxx.xxxx.xxxx.xxxx.xxxx.xxxx.xxxx.xxxx.xxxx.xxxx.xxxx.xxxx.xxxx.xxxx.xxxx.xxxx.xxxx.xxxx.xxxx.xxxx.xxxx.xxxx.xxxx.xxxx.xxxx.xxxx.xxxx.xxxx.xxxx.xxxx.xxxx.xxxx.xxxx.xxxx.xxxx.xxxx.xxxx.xxxx.xxxx.xxxx.xxxx.xxxx.xxxx.xxxx.xxxx.xxxx.xxxx.xxxx.xxxx.xxxx.xxxx.xxxx.xxxx.xxxx.xxxx.xxxx.xxxx.xxxx.xxxx.xxxx.xxxx.xxxx.xxxx.xxxx.xxxx.xxxx.xxxx.xxxx.xxxx.xxxx.xxxx.xxxx.xxxx xxxxxxxxxxxx.xxxx xxxx xxxx xxxx.xxxx xxxx xxxx xxxx.xxxx xxxx xxxx xxxx.xxxx xxxx xxxx xxxx.xxxx xxxx xxxx xxxx.xxxx xxxx xxxx xxxx.xxxx xxxx xxxx xxxx.xxxx xxxx xxxx xxxx.xxxx xxxx xxxx xxxx.xxxx xxxx xxxx xxxx.xxxx xxxx xxxx xxxx.xxxx xxxx xxxx xxxx.xxxx xxxx xxxx xxxx.xxxx xxxx xxxx xxxx.xxxx xxxxxx xx xxxx.xxxx xxxx xxxxxxxx.xxxx xxxx xxxxxxxx.xxxx xxxx something.xx xx xxxx18.xxxx xxxx xx xx xxxx.xxxx xxxx xx xx xxxx.xxxx xxxx xx xx xxxx.xxxx xxxx xx xx xxxx.xxxx xxxx xx xx xxxx.xxxx xxxx xx xx xxxx.xxxx xxxx xxxx p.xx xx.xxxx xxxx xxxx ok.xxxxxx xx xxxx see.xx xx xxxx xx xx xxxx.xx xx xxxx xx xx xxxx.xx xx xxxx xx xx xxxx.xx xx xxxx xx xx xxxx.xxxx xxxx xxxx xxxx xxxx.xxxx xxxx xxxx xxxx xxxx.xxxx xxxx xxxx xxxx xxxx.xxxx xxxx xxxx xxxx xxxx.xxxx xxxx xxxx xxxx xxxx.xxxx xxxx xxxx xxxx xxxx.xxxx xxxx xxxx xxxx xxxx.xxxx xxxx xxxx xxxx xxxx.xxxx xxxx name.xxxx xxxx xxxxxxxxxxxx.name xxxx.name xxxx.name xxxx.name xxxx xxxx.name xxxx xxxx.name xxxx xxxx.name xxxx xxxx.name xxxx xxxx.name xxxx xxxx.name xxxx xxxx.name xxxx xxxx.name xxxx xxxx.xxxx xxxx xxxx xxxxxxxx.xxxx xxxx xxxx xx xx xxxx.truly xxxx xxxx.truly xxxx xxxx.xxxx xxxx take.xxxxxx xx xxxx5.xxxx xxxx xxxx anything.number xxxx.number xxxx.xxxx explanation.xxxx years old xxxx.xx xx xxxx word.xxxx xxxx thanks much understanding matter.xxxx xxxx ca xxxx.xxxx xxxx said oh see.xx xx already.xxxx phone xxxx.number xxxx xxxx.xxxx thank xxxx.well xx xx xxxx.putting xxxx.someone xxxx xxxx.xxxx xxxx xxxx fl.xx xx xxxx xxxx xxxx xxxx xxxx.got xxxx xxxx.got xxxx xxxx.called xxxx xxxx.xxxx xxxx xxxxxxxx xxxx xxxx.another xxxx xxxx.another xxxx xxxx.another xxxx xxxx.xxxx xxxx xxxx xxxx xxxx xxxx.xxxx xxxx xxxx xxxx xxxx xxxx.xxxx xxxx xxxx xxxx xxxx xxxx.xxxx xxxx xxxx xxxx xxxx xxxx.xxxx xxxx xxxx xxxx xxxx xxxx.xxxx xxxx xxxx xxxx xxxx xxxx.xxxx however.currently xxxx xxxx.xxxx letters.xxxx said.xxxx xxxx xxxx xxxx xx xx xxxx.said xxxx xx xx.xxxx child.xxxx years old.xxxx years old.name xxxx xxxx xxxx.name xxxx xxxx xxxx.thanks xxxx xxxx xxxx.xx xx xxxx show.xxxx xxxx xxxx end.onxx xx ireceivedaletterfromusbankruptcycourtstatingbankruptcycourtdoesnotperformanyactivitieswiththecreditbureaus.xxxx xxxx xxxx agreed.xxxx xxxx xxxx sec.xxxx xxxx xxxx 1xxxx xxxx xxxx.namely xxxx.xxxx xx xx xxxx xx xx xxxx xx xx.xxxx xxxx pleasure mine.called xxxx.called xxxx.called xxxx.back xxxx xxxx.xxxx xxxx years.xxxx thanks',\n",
       " 2: 'please help.please help.please help.please help.please help.please help.please help.please help.please help.please help.please help.please help.please help.please help.please help.please help.please help.please help.please help.please help.please help.please help.please help.please help.please help.please help.please help.please help.please help.please help.please help.please help.please help.please help.please help.please help.please help.please help.please help.please help.please help.please help.please help.please help.please help.please help.please help.please help.please help.please help.please help.please help.please help.please help.please help.please help.please help.please help.please help.please help.please help.please help.please help.please help.please help.please help.please help.please help.please help.please help.please help.please help.please help.please help.please help.please help.please help.please help.please help.please help.please help.please help.please help.please help.please help.help please.please please help.please please help.please need help.please need help.need help please.need help please.need help.need help.need help.need help.need help.need help.need help.thank please help.please help us.please help us.please help us.please help us.could please help.please help assist.help.help.help.help.help.help.help.help.help.help.help.please help matter.please help matter.someone please help.please assist.please assist.please help way.really need help.really need help.thanks help.thanks help.thanks help.please help asap.thank help give.thank help.thank help.thank help.thank help',\n",
       " 3: 'thank.thank.thank.thank.thank.thank.thank.thank.thank.thank.thank.thank.thank.thank.thank.thank.thank.thank.thank.thank.thank.thank.thank.thank.thank.thank.thank.thank.thank.thank.thank.thank.thank.thank.thank.thank.thank.thank.thank.thank.thank.thank.thank.thank.thank.thank.thank.thank.thank.thank.thank.thank.thank.thank.thank.thank.thank.thank.thank.thank.thank.thank.thank.thank.thank.thank.thank.thank.thank.thank.thank.thank.thank.thank.thank.thank.thank.thank.thank.thank.thank.thank.thank.thank.thank.thank.thank.thank.thank.thank.thank.thank.thank.thank.thank.thank.thank.thank.thank.thank.thank.thank thank.thanks.thanks.thanks.thanks.thanks.thanks.thanks.thanks.thanks.thanks.thanks.thanks.thanks.thanks.thanks.thanks.thanks.thanks.thanks.thanks',\n",
       " 4: 'account incorrect reporting credit reports xxxx xxxx xxxx xxxx xxxx xxxx.xxxx xxxx xxxx account number xxxx reporting erroneous collection credit report.account reported xxxx credit report affecting credit.account established xx xx reported xxxx xxxx xxxx credit reports.recently copy credit report sent company found reporting account incorrectly.closed account reporting incorrect information one accounts account number reported xxxx xxxx causing confusion havoc credit needs removed.collection account inaccurately reporting credit reports xxxx xxxx.recently looked credit report noticed inaccurate accounts reporting credit file.disputed inaccurate information reporting credit report removing account report.xxxx found negative account xxxx xxxx credit report xxxx.xx xx xxxxtransunion xx xx xxxx still reporting items wrong credit report.yet xxxx xxxx continues provide incorrect information account credit reporting agencies.recently reviewed credit report discovered inaccurate accounts reporting credit file.recently reviewed credit report discovered inaccurate accounts reporting credit file.disputed xxxx account showing credit report.stated address reporting credit report incorrect correct address xxxx xxxx xxxx xxxx ca xxxx address credit report.bogus account number listed credit reports xxxx.also reported incorrect information credit reporting agencies.want credit report reporting false information trying rebuild credit right report made payments restart clock account wait another years.xxxx xxxx pulled credit report noticed account xxxx xxxx xxxx recognize.problem reporting incorrect information credit agencies.sending complaint xxxx incorrect negative reporting credit reports.according xxxx xxxx account could verified account number reported credit report.however credit bureaus updating account report correctly.account due removed credit report xx xx yet somehow experian recently investigated updated report verifying false information.found adverse account information listed credit reports xxxx xxxx xxxx xxxx.xxxx xxxx xxxx xxxx xxxx reported account delinquent credit reporting agencies.continue ignore report erroneous account credit.repeatedly disputed xxxx xxxx xxxx xxxx account credit report bureau.xxxx disputed account credit bureau inaccurate account xxxx xxxx xxxx.creditor reporting accounts invalid unverified.creditor reporting accounts invalid unverified.creditor reporting accounts invalid unverified.creditor reporting accounts invalid unverified.xx xx disputed accounts credit report.balance xxxx xxxx xxxx reporting wrongly destroying credit report.reporting wrong information credit bureaus.account needs deleted xxxx xxxx experian credit reports.account negatively affecting credit report score due company false reporting.xxxx xxxx xxxx accounts xxxx xxxx reporting collections credit report.disputed account reporting incorrect information transunion credit report.need xxxx xxxx account removed credit report per xxxx report.account removed credit report odd reason.company done neither violation rights kept reporting account valid account credit report.xxxx xxxx following security breach xxxx obtained credit reports located credit card account obtain xxxx xxxx xxxxthat im owner thats reporting negatively three credit reports.broke xxxx around xxxx noticed accounts credit report.xxxx xxxx reported collection account credit report.duplicate dispute new information xxxx xxxx xxxx bank reporting incorrect information regarding account credit report.refused credit due incorrect credit reporting practices xxxx reporting agencies.repeatedly disputed account listed credit report account.however reported credit report negative account.credit report went xxxx xxxx.xxxx xxxx xxxx reported collection account credit report.also made dispute xxxx xxxx inaccurate information credit report xx xx.original creditor xxxx reporting report xxxx.xxxx rejected new account based information contained credit report.xx xx xxxx inaccurate information still reporting xxxx transunion xxxx credit report.want account deleted reported accurately creditor reporting.correct credit report.reporting inaccurate information credit report.xxxx collection agency xxxx xxxx xxxx incorrectly reporting balance collection credit bureau reports negatively affecting credit.xxxx collection agency xxxx xxxx xxxx incorrectly reporting balance collection credit bureau reports negatively affecting credit.disputed two accounts reporting negatively credit report.received copy credit report noticed several accounts mine reporting inaccurately credit bureaus filed police report notify authorities.received copy credit report noticed several accounts mine reporting inaccurately credit bureaus filed police report notify authorities.account showed xxxx credit report knowledge.xxxx xxxx xxxx account never late balance reporting incorrect.found unknown xxxx xxxx xxxxxxxx account credit report end xxxx.xxxx xxxx reporting inaccurate late credit report.account turned collection agency xxxx xxxx reporting negatively credit reports.xxxx xxxx communicated writing xx xx xxxx indicated referenced account removed credit report.xxxx xxxx xxxx account xxxx disputed removed xxxx credit report x x.disputed account experian xxxx xxxx xxxx due fact xxxx reporting incorrect balance report.first two credit reporting agencies closed dispute made change report claiming account information correct.xx xx xxxx reviewed credit report noticed several accounts believe fraudulent.please investigate concerns compel creditor correct account.account question reporting credit bureaus since disputed specifically xxxx.however reported credit report.placed credit reports xxxx.account needs deleted three credit reports.xxxxxxxx xxxx xxxx reporting credit reports balance never opened account must removed credit reporting agencies.xxxx xxxx already credited everything incorrectly reporting account delinquent.law disputing account showing credit reports.posted account xxxx credit report xxxx reporting accounts charge offs.multiple creditors reporting inaccurate information credit report.reported credit report.noticed fraudulent accounts recent credit report.disputed xxxx xxxx xxxx xxxx accounts credit report xxxx xxxx accounts never marked dispute.transunion continues report obviously incorrect information xxxx account credit report.xx xx disputed account thru credit reporting agencies.assumed account closed noted credit report inxx xx xxxx.xxxx xxxx admitted taking credit reports complaining xxxx xxxx.started review credit reports around xx xx xxxx noticed account credit reports requested dispute fact account.started review credit reports around xx xx xxxx noticed account credit reports requested dispute fact account.stated monday xx xx xxxx account appear credit report.xxxx xxxx xxxx report accurately adjusted account holder credit report.xxxx xxxx xxxx unable provide identifying account information account must deleted credit reporting agencies.account continues report credit file xxxx acct xxxx xxxx xxxx also known xxxx xxxx acct established credit bureaus companies fraudulent.accounts lower credit limits close altogether xxxx xxxx xxxx xxxx reporting incorrectly.disputed xxxx credit reporting agency investigated shows account never paid late reporting positive account.automated collection xxxx reporting inaccurate account three credit reports also intercepting federal payment.xxxx reported charged account credit bureaus xx xx xxxx.account incorrectly reporting open account delete xxxx xxxx xxxx xxxx please fix correct delete problems really hurting credit score.still reporting credit report.want report fraudulent account credit report account needs removed credit belong.xxxx xxxx reported credit report days past due.collection reporting companies xxxx xxxx xxxx believe database error companies suddenly two collection accounts appeared credit reports.made numerous formal complaint consumer financial protection bureau via mail report inaccurate incomplete information reported xxxx xxxx accounts listed credit report.credit agency reporting thw wrong address credit report fraudulent address listed xxxx xxxx xxxx xxxx xxxx xxxx wrong.accounts credit report mine.checking credit report noticed account xxxx xxxx xxxx xxxx xxxx xxxx xxxx xxxx xxxx mt xxxx.xxxx xxxx account never late balance reporting incorrect.previously account company showed credit report incorrectly months.incorrect reporting late accounts harming credit score line items need removed credit report.company reporting incorrect information credit bureaus.dispute placed credit report.please help removing credit destroyed erroneous report.credit bureau reporting inaccurate information report',\n",
       " 5: 'payment xxxx xxxx xxxx made payment xxxx.payment made xxxx xxxx xxxx.paid xxxx payment xxxx xxxx.paid xxxx xxxx payments xx xx xxxx.resulted payment xx xx xxxx.payment made xx xx.first payment made xxxx xxxx.payment posted xx xx xxxx.post payment made xxxx xxxx.payments xxxx xxxx.made payment month xx xx xxxx xx xx xxxx xx xx xxxx.said payment credited xxxx xxxx xxxx loan.payments made xxxx xxxx xxxx account.began making payments xxxx xxxx xxxx.payment went xxxx xxxx.made monthly payment xx xx xxxx.xxxx xxxx electronic payment made xxxx xxxx xxxx amount.made xxxx payment.xx xx paid another one xx xx made payment.total payments made xxxx.xxxx xxxx payment due.made final payment xxxx xxxx xxxx due date xxxx xxxx xxxx.money went xxxx xxxx xxxx payment processing xxxx xxxx.made payment xxxx xxxx brought balance.started payment said received xx xx xxxx.owe xxxx payment xxxx payment.payments made time xxxx.xxxx payments received.amount addition payment made xxxx xxxx xxxx.xxxx made two payments 1st one xx xx xxxx 2nd xx xx xxxx.made payment.responded saying made payments xx xx xxxx xx xx xxxx xx xx xxxx.payment first payment due xxxx xxxx xxxx.called xx xx xxxx advised payment issued xxxx xxxx xxxx.xxxx received xxxx received received new payment.payment made xxxx confirmed bank xxxx.payment due xxxx.original payment xxxx xxxx xxxx payment n credited account xxxx.made payments.made payments.made payments follows xx xx xxxx xx xx xxxx xx xx xxxx xx xx xxxx month xx xx xxxx xx xx xxxx month.payment due today xxxx xxxx.payment made month since xx xx xxxx.made four payments xx xx xxxx xx xx xxxx xx xx xxxx xx xx xxxx except xx xx xxxx payment.xx xx xxxx made arrangements pay xx xx xxxx.xxxx took loan payment xxxx monthly xxxx.xxxx xxxx xxxx properly credit payment received xxxx xx xx amount.made payment xx xx xxxx every month.invoice said xxxx xxxx made payment.finished payments xxxx xxxx xxxx xx xx.xx xx xxxx made payment xxxx credit card account.please know continued pay old payment xxxx xxxx made payment.next payment due xx xx xxxx.xxxx changed available credit made payment xx xx purchase xx xx.stated made xxxx payment xxxx xxxx instantly started saying thing placed xxxx payment.said made payment xx xx.last payment xxxx.began making payments xxxx xx xx xxxx time ever since.last payment made creditor xx xx xxxx.missed payments xxxx xxxx xxxx paid xxxx.xx xx xxxx payment paid posted account.last payment made xxxx xxxx xxxx xx xx xxxx payment made carrington.paid xxxx bill full amount received xxxx xxxx.total amount payments made xxxx xxxx amounted.paid loan xxxx xxxx xxxx xxxx xx xx xxxx.xx xx xxxx purchased xxxx xxxx xxxx paid full.xx xx xxxx made would end last payment.payment xxxx loan.xxxx lost xxxx payments made.paid loan xx xx xxxx.xxxx xxxx submitted month payment.post reacent payment made xx xx.stated xxxx xxxx xxxx xxxx xxxx went non payment xxxx dates xxxxxxxx xxxx.xx xx xxxx paid balance xxxx.paid payment xxxx xxxx cash credit card received receipt xxxx xxxx xxxx.xxxx pay extra money make payments xxxx xxxx xxxx.also debited two payments xxxx xxxx xxxx.bill paid xxxx xxxx.statement dated xx xx xxxx indicated due payments xx xx xxxx thru xx xx xxxx.xx xx xxxx went local xxxx xxxx office located made payment included xx xx xxxx xx xx xxxx payment.ordered pay xxxx xxxx xxxx.xx xx made mortgage payment xxxx xxxx loans.sent payment installment loan paid full xxxx xxxx xxxx xxxx.next payment due xxxx.notice xxxxand paid xx xx xxxx.reporting last payment made xx xx xxxx.xxxx xxxx came agreement xxxx xxxx xxxx pay total month.still nothing payment due xx xx xxxx.xxxx continued make payment amount.according documents sent xx xx xxxx payment increased xx xx xxxx.payment xxxx applied visa xxxx xxxx.made regular payment xx xx xxxx xx xx xxxx called paid remaining balance.still confused credit got xxxx payment xxxx payment.paid check xxxx xxxx xxxx xxxx.paid xxxx xxxx xxxx also xxxx xxxx xxxx',\n",
       " 6: 'contacted company companies agreed request removal inquiry credit report.requesting companies creditor remove inquiries associated companys credit report.inquiries authorized report include xxxx xxxx xxxx xxxx xxxx called removed company stated could n remove credit bureau remove.would like inquiry removed credit report.would like inquiry removed credit report.contacted companies conducted inquiry asked remove credit inquiry credit profile.victim inquiry issue want stated inquiries removed credit report.contacted company said removed however credit bureaus removing.services company ask false information removed credit report immediately.asking credit inquiries removed showing credit report.writing request several credit inquiries unauthorized removed credit report.proceeded contact company ran report ask delete inquiries advised contact credit bureau dispute inquiries take.please remove hard inquiry listed credit report.contacted conducted inquiry asked remove credit inquiry credit profile.agencies please remove inquiries credit report.disputing want removed credit report.inquiries need removed credit asap.requested remove inquiry report unfair reporting credit report due error behalf.asking immediate remove credit inquiry due failure follow procedure identity theft refused remove inquiry.reached creditor placed inquiry requested remove credit inquiry credit profile.informed company removed reported amount credit file report credit bureaus would would take complaint seriously.want removed credit report.would like request debt removed credit report.last complaint asking company remove debt credit reports leave alone.provide information requested refuse remove item credit report.please remove credit inquiries immediately would also like updated report problem corrected.contacted company xx xx xxxx requesting fraudulent inquiries credit report.requested following items removed credit report removed xx xx xxxx put back credit report.please inquiry removed credit report affecting loan applications making difficult acquire credit.credit company removed.please help get removed credit report.contacted three credit bureaus well company question removing unauthorized transactions credit report.outcome please remove credit report.inquiries previously credit report deleted.advised inquiry credit removed even due sales person incorrect information.months later back credit report disputing remove.inquired getting account removed credit report.told payment made agencies would contact xxxx credit bureaus collections would removed credit report.requested removed credit report responsibility account.please remove fraudulent hard inquiry credit report xxxx xxxx xxxx xx xx.would like removed credit report.comapanies told could anything unless xxxx xxxx xxxx sent electronic agreement wanted item removed credit report.consequently requesting removed credit report inaccurate unverifiable dispute creditor failed provide proper notice items relating account.request entry deleted entirely credit report.contacted xxxx xxxx going sending something inquiries removed told contact creditor see getting removed sooner.company fails provide proof want removed credit report soon possible.sent letters inquire companies credit report removed get reply creditors.disputing information credit reports want removed affecting obtaining credit.xxxx xxxx xxxx xxxx xxxx called removed company stated could n remove credit bureau remove.would like hard inquiry removed credit report since providing inaccuracies regarding denial credit report scores.equifax investigate dispute properly would removed credit report.requested equifax remove information credit report.requesting negative information supplied credit reporting bureau removed.called credit bureau stated could n remove companies.called credit bureau stated could n remove companies.called credit bureau stated could n remove companies.called credit bureau stated could n remove companies.called credit bureau stated could n remove companies.called credit bureau stated could n remove companies.called credit bureau stated could n remove companies.credit bureaus sent copy report showing resolved end would need contact collections agency directly request remove statement report since dispute completed.totally ignored request need delete information credit report.xxxx xxxx xxxx xxxx called removed company stated could n remove credit bureau remove.xxxx xxxx xxxx xxxx called removed company stated could n remove credit bureau remove.xxxx xxxx xxxx xxxx called removed company stated could n remove credit bureau remove.xxxx xxxx xxxx xxxx called removed company stated could n remove credit bureau remove.xxxx xxxx xxxx xxxx called removed company stated could n remove credit bureau remove.need remove credit report.please remove credit report.please remove credit report.please remove credit report.please remove credit report.please company remove credit.unauthorized inquiry credit report.reps refused remove inquiry therefore affecting credit report negative manner.disputed equifax online results said credit inquiry manually removed',\n",
       " 7: 'stated victim identity theft.victim identity theft.victim identity theft.victim identity theft.victim identity theft.victim identity theft.victim identity theft.victim identity theft.victim identity theft.victim identity theft.victim identity theft.victim identity theft.victim identity theft.victim identity theft.victim identity theft.victim identity theft.victim identity theft.victim identity theft.victim identity theft.victim identity theft.victim identity theft.victim identity theft.victim identity theft.victim identity theft.identity theft victim.victim identity theft last year.victim id theft.identity theft.victim identity theft twice past.point realized victim identity theft.may concern name xxxx xxxx victim identity theft.hello name xxxx xxxx xxxx xxxx victim identity theft.victim identity theft years.victim identity theft fraudulent account harming financially.identity stolen.result identity theft.result identity theft.result identity theft.result identity theft.victim identity theft due breaches ofc information one xx xx xxxx next xx xx xxxx.victim idenity theft well.victim identity theft put long.victim identity theft duly notified relevant authorities.thought may mistaken identity identity theft.victim identity theft advised company account opened person stole identity.knowing identity theft.victim identity theft victim identity theft years.representative asked ever victim identity theft.xxxx client xxxx xxxx victim identity theft.xxxx client xxxx xxxx victim identity theft.victim identity theft inxx xx xxxx hired xxxx help resolve problem.clearly identity theft.xxxx xx xx xxxx xx xx xxxx paid identity theft claim xxxx account identity theft.victim fraud.victim identity theft well several data breaches.victim identity theft well several data breaches.victim identity theft second time im receiving negative consumer report disputed false allegations disputing report never put criminal situation.feel victim identity theft someone attempted apply items name.account erroneous result transaction made victim identity theft.authorize accounts victim identity theft.informed xxxx xxxx xxxx representative never victim identity theft.victim identity theft want item credit.xxxx xxxx xxxx xxxx xxxx xxxx result identity theft.victim identity theft open account responsible charges made account.send necessary documents proving victim identity theft.victim identity theft somebody stole personal information open credit cards.victim identity theft somebody stole personal information open credit cards.victim identity theft somebody stole personal information open credit cards.victim identity theft somebody stole personal information open credit cards.victim identity theft somebody stole personal information open credit cards.identity theft real problem easy commit limited knowledge victim.far back xxxx experienced identity theft.victim identity theft dealing shutting accounts social governmental financial anything everything name birthday social.xxxx xxxx client xxxx xxxx identity theft victim.victim identity theft debt belong',\n",
       " 8: 'unaware saw late payment credit report.reason realized late payment credit report.reason realized late payment credit report.reason realized late payment credit report.wasnt aware late payment looked recent credit report saw late charge.late payment showing credit report.late payment shows credit report xxxx xxxx.still reported late credit reports.result marked one payment late credit report.bout late payments xxxx xxxx credit report.shocked reviewed credit report found late payment dates days past due xxxx sure happened believe made payments received statements.shocked reviewed credit report found late payment dates days past due xxxx xxxx sure happened believe made payments received statements.shocked reviewed credit report found late payments dates days past due xxxx sure happened believe made payments received statements.shocked reviewed credit report found late payment xxxx xxxx xxxx sure happened believe made payments received statements.shocked reviewed credit report found late payment xxxx xx xx sure happened believe made payments received statements.shocked reviewing credit report found late payment date days late xx xx xxxx days late xx xx xxxx.hi recently pulled credit report found bill listed late credit report unaware.perfect credit report late missing payments.never made late payment anyone still checked credit report confirm.one days late reported credit report xx xx xxxx.called xx xx xxxx regarding late payment reports.recently checked credit report see bureaus reporting inaccurate information late payments.shocked reviewing credit report found late payment date days late xx xx sure happened.shocked reviewed credit report found several late payments dates days late xx xx xx xx.xxxx xxxx reported day late payment forxx xx xxxx credit report.shocked reviewing credit report found late payment date days late xx xx xxxx days late xx xx xxxx another days late xx xx xxxxi sure happened.credit reporting agencies correctly reporting never late missed payment.shocked reviewing credit report found late payment date days late xx xx xxxx days late xx xx xxxx days late xx xx xxxx days late xx xx xxxx90 days late xx xx xxxx90 days late xx xx xxxx90 days late xx xx sure happened.late payments reported credit bureau account idea payments late.charged us late fee hit credit reports missed late payment status.also sent information credit agency continues report late payments.report late credit bureau.asked information reported delinquent credit bureaus xxxx representative advised report days report first delinquency days since today xxxx day payment received xxxx would report late payment.late payment reported along time frame well.shocked reviewing credit report found late payment date days late ofxx xx xxxx days late xx xx xxxx days late xx xx xxxx days late xx xx xxxx days late xx xx xxxx days late xx xx xxxx days late xx xx xxxx days late xx xx xxxx days late xx xx xxxx days late xx xx xxxx days late xx xx xxxx days late xx xx xxxx days late xx xx xxxx days late xx xx xxxx days late xx xx xxxx sure happened.may concern writing incorrectly reported late payment removed credit history.xxxx xx xx xxxx credit reports still show late payment credit history.months later dealing reported credit bureaus late paying bill.also reporting late payments xxxx xxxx documentation clearly shows payments.late fee know affected credit report.early xx xx xxxx credit reports still show late payment credit history.shocked reviewing credit report found late payment date days late xx xx bureaus sure happened.still n understand credit report still showing late payment payments made time payment plan fromxx xx xxxx xx xx xxxx.xxxx xxxx listed multiple day late payment credit report xx xx xxxx xx xx xxxx.asked effect would responded reported late payment credit reporting agencies.credit report shows days late.called told report xxxx every month payments paid full reported late credit bureau.noticed looking credit report day late payment credit report bureaus.noticed recent credit report contains late payments reported attached accounts.noticed recent credit report contains late payments reported attached accounts.noticed recent credit report contains late payments reported attached accounts.never late payment since customer would blemish credit report long term loyal customer.im writing noticed recent credit report contains days late payment xxxx reported xx xx xxxx xxxx xxxx xxxx account.review credit reports clearly show never late payments never.xx xx xxxx nelnet reported credit bureau late payments.received bill notice late payment.first progress card reporting late payments credit report damaging credit.xxxx credit companies xxxx xxxx xxxx xxxx showing late payment xxxx.received confirmation late payments taken equifax report.also asked representative phone said late payment reported three credit bureaus.payment history reported late xxxx xxxx filing date',\n",
       " 9: 'xxxx xxxx xxxx xxxx trying collect debt owed.xxxx xxxx trying collect unknown debt xxxx xxxx xxxx amount dated xx xx.claimed collecting debt xxxx.paid debt xx xx xxxx.xx xx xxxx xxxx xxxx contacted confirmed debt owed.received message xxxx company said attempting collect debt owe.xxxx xxxx got phone said trying collect xxxx debt.called xxxx xxxx xxxx xxxx xxxx xxxx pay debt.supposed debt owe xxxx.continued attempts xxxx xxxx xxxx collect debt name.xxxx xxxx xxxx keeps calling debt owe.attempting collect debt.xxxx xxxx xxxx years old took debt.xxxx xxxx xxxx xxxx xxxx xxxx xxxx calling regards old debt.company xxxx xxxx xxxx xxxx xxxx repeatedly contacted regards debt owed xxxx xxxx.owe xxxx xxxx dollars xxxx xxxx xxxx xxxx dollar debt.debt collecting call since xxxx even fault.debt xx xx xxxx.debt xxxx xxxx xxxx purchased xxxx xxxx.owe money xxxx xxxx.debt paid full xxxx xxxx xx xx.portfolio xxxx trying collect debt owe.contacted xxxx xxxx told contact xxxx xxxx xxxx handle debt collections.owe xxxx xxxx xxxx xxxx xxxx nothing.debt satisfied xxxx xxxx xxxx.ask contact xxxx xxxx debt.xxxx xxxx saying debt.xxxx attempting collect debt service improperly billed xxxx bills total.approximately xx xx xxxx xxxx xxxx xxxx xxxx contacted attempt recover debt.afni trying collect debt isnt mine xxxx dollars behave xxxx xxxx xxxx.xx xx xxxx receive bill xxxx stating owe.xxxx xxxx harassing calls soliciting collecting debts.debt collections try get pay owed account.xxxx xxxx xxxx previously submitted complaints stating clearly unequivocally way responsible debts incurred xxxx xxxx xxxx xxxx.owe xxxx xxxx xxxx owe xxxx xxxx xxxx.cr number xxxx alleging debt may concern letter received xxxx xxxx xxxx attempt collect debt.last last debt collector xxxx xxxx xxxx contacted mail xxxx try collect debt.owe xxxx xxxx xxxx money trying settle matter.xxxx number complaints calls debt collections urgent care however dont urgent care bill last one got xx xx xxxxand paid xxxx dollars.collection firm stating owe xxxx.however company decided obtain xxxx xxxx xxxx collect alleged debt owed xxxx bank xxxx ending xxxx.account collected xxxx xxxx xxxx advanced collection bureau amount debt.received debt collection bill xxxx xxxx today.xx xx xxxx called saying still owed.xxxx xxxx xxxx failed ever provide notice debt identify debt attempt contact discuss alleged debt may acted fraudulently reporting alleged collections efforts.xxxx xxxx assign debts.recently xx xx xxxx got mail xxxx xxxx xxxx debt collection saying owed supposed dent.xxxx claiming still owe debt documentation owe.xx xx xxxx paid full alleged debt.legallyentitled collect particular debt.claim owe xxxx xxxx.spoke xxxx xxxx woman said owed chace xxxx xxxx xxxx xxxx xxxx thisbis attempt collect debt.informing collection agency trying collect debt xxxx xxxx xxxx month xx xx xxxx.owed past due bill xxxx xxxx xxxx turned xxxx xxxx xx xx xxxx.called back advised person named xxxx please stop calling debt paid full xx xx xxxx.notice debt contains original creditors xxxx xxxx xxxx.sure debt trying collect sent letter.liable debt xxxx xxxx xxxx',\n",
       " 10: 'equifax report xxxx xxxx xxxx xxxx xxxx.xxxx report see xxxx xxxx equifax.xxxx reports xx xx xxxx xxxx reports xx xx xxxx equifax reports xx xx xxxx.xxxx reports xx xx xxxx xxxx reports xx xx xxxx equifax reports xx xx xxxx.xxxx reports xx xx xxxx xxxx reports xx xx xxxx equifax reports xx xx xxxx.equifax xxxx xxxx.equifax report xxxx xxxx xxxx reports account opened xxxx xxxx xxxx report date major delinquency first reported xxxx.requesting equifax xxxx xxxx xxxx delete xxxx xxxx xxxx account ending xxxx xxxx xxxx account ending xxxx credit report due inaccuary deleted xxxx xxxx xxxx credit report.equifax reporting bureau.information received reported equifax.equifax xx xx xxxx xxxx xxxx equifax xx xx xxxx xxxx xxxx.equifax xxxx xxxx xxxx xxxx xxxx xxxx xxxx xxxx xxxx xxxx xxxx xxxx xxxx.equifax reporting two inquires xxxx xxxx xxxx xxxxxxxx xxxx credit report.help obtain results xxxx equifax xxxx investigation.equifax reporting negative information xxxx tx xxxx xxxx xxxx xxxx xxxx xxxxxxxx xxxx incorrect.received annual credit reports xxxx reporting agencies xxxx equifax xxxx xxxx.submitted xxxx complaint equifax complaint xxxx.account xxxx xxxx xxxx account number xxxx visible equifax xxxx reports.account xxxx xxxx xxxx account number xxxx visible equifax xxxx reports.fighting xxxx equifax three years report correct information.account number listed equifax report xxxx.information placed report xxxx xxxx almost years later years equifax reporting negative information xxxx xxxx.equifax report xxxx xxxx xxxx xxxx xx xx xxxx faxed equifax identification driver licensure social security utility bill.filed police report sent letter equifax.equifax credit bureau report.xx xx hard inquiry credit report company named equifax xxxx.went xxxx credit agencies obtain credit report able xxxx xxxx equifax.showing xxxx equifax.faxed xxxx xxxx report equifax dispute.equifax.equifax.equifax.bankruptcy equifax report xx xx xxxx xx xx xxxx.equifax reports xxxx xxxx xxxx reporting opened date xxxx xxxx xxxx date major delinquency first reported xxxx xxxx xxxx xxxx reports open date xxxx xxxx xxxx date major delinquency first xxxx.additional questions concerns regards equifax credit report please contact us directly xxxx xxxx.xxxx reports xx xx xxxx xxxx removed account equifax reports xx xx xxxx.equifax need.xxxx xxxx trying dispute inaccurate information equifax credit report.send police report equifax notify equifax victim.called equifax xxxx xxxx explained.receipt attached equifax report number xxxx dated xxxx discovered following reporting problems equifax placing blame xxxx xxxx.xxxx b equifax c xxxx.sent information equifax xxxx xxxx xxxx.statement equifax report said going investigate reporting xxxx xxxx xxxx previously done.letters equifax xxxx xxxx xxxx wrote company reported information certified xxxx information accurate.going equifax.equifax still continues xxxx xxxx xxxx credit report.xxxx liens showing equifax report.xx xx submitted dispute equifax.xx xx checked credit report found inquiry equifax aware.xxxx already equifax continues report accurate status.equifax never half years identified verifies information xxxx xxxx reporting.try access report equifax com youll see mean.would like investigate equifax also xxxx complaint made xx xx another consumer.called equifax xx xx xxxx inform credit report dated xx xx indicated score xxxx',\n",
       " 11: 'account xxxx account.account xxxx xxxx.account xxxx xxxx xxxx.account xxxx.xxxx xxxx xxxx account xxxx.xxxx xxxx xxxx account xxxx xxxx.account number xxxx.account number xxxx.account number xxxx.account number xxxx.account number account xxxx.xxxx account xxxx xxxx xxxx xxxx xxxx account xxxx.account xxxx xxxx account number xxxx.account question xxxx xxxx.name account xxxx xxxx xxxx.xxxx xxxx xxxx xxxx xxxx accounts.account xxxx mine.checking account xxxx.account xxxx dollars.xxxx xxxx bank xxxx xxxx account.xxxx remaining account.account number xxxx account name xxxx xxxx xxxx.account originally xxxx xxxx xxxx.account.account.account.account.account.account paid xxxx.accounts xxxx xxxx xxxx xxxx xxxx mine.xxxx remove account.never account xxxx xxxx.never account xxxx xxxx.never account xxxx xxxx.account xxxx years old n make sense.paid account xx xx xxxx xxxx xxxx.account number still xxxx.accounts.accounts.accounts.xxxx fraud account',\n",
       " 12: 'requested validation said debt gotten.requested information directly asking validation debt.asked validate debt.right request validation debt say owe.requested validity debt xxxx.xxxx xxxx provide information requested validation process demonstrate debt valid.company provided validation debt.chapter 93a request validation debt.failed validate debt.verification include information requested included debt validation.submitted complaint xxxx xxxx xxxx regards xxxx xxxx xxxx improper validation called debt.asked company validation debt failed.validation never received debt never validated belonging.debt never validated.never received written debt validation notice.validation debts.company attempting collect debt validated verified.even asked letters even sent supposedly validation debt.requested writing verified debt.validation debt e.received documentation validating debt trying collect.called dispute debt asked verification.received debt validation following accounts xxxx xxxx xxxx xxxx xxxx xxxx xxxx xxxx xxxx xxxx xxxx xxxx xxxx xxxx xxxx xxxx credit bureau satisfied obligation provide information requested.asked information validity debt substantiated yet received documentation end.received debt validation following accounts xxxx xxxx xxxx xxxx xxxxxxxx xxxx xxxx xxxxxxxx xxxx xxxx xxxxxxxx xxxx xxxx xxxx xxxx xxxx xxxx credit bureau satisfied obligation provide information requested.please also advised request official validation debt request verification address request.attempted obtain validation debt creditor attempting collect.xx xx xxxx wrote requesting debt validation letter bill say owe.owed debt wanted debt validated accuracy.xx xx xxxx also mailed written request validation debt waiting written response xxxx management xxxx xxxx.sent request debt validation company since original lender provide documentation.asked send letter debt validation done.response coast professional inc submission single document validation alleged debt say owe sent second letter dated xx xx certified receipt stating able willing validate debt would consider debt legally financially settled see attachment extended validation period xx xx.end xx xx xxxx received letter xxxx stating received debt validation request account copies xxxx statements indication debt still owed.requested documentation signature saying agreed pay debt received validation requested.see attached since verified requested documentation used verify debt.also requested confirmation verification debt owed well balance owed.sent billing statements validating debt.would like request validation debt time repossession xx xx xxxx validation current debt reported credit.asked verification debt mine.sent follow letter requesting debt validated verified anyone look computer screen see name verify debt',\n",
       " 13: 'fair credit reporting act says.according fair credit reporting act.violation fair credit reporting act.violation fair credit reporting act.fair credit reporting act u c.fair credit reporting act u c.according fair credit reporting act u c.rights protected fair credit reporting act.fair credit report act required comply.fair report credit act required comply.clear violation fair credit reporting act.according fair credit reporting act entitled notices concerning reporting handling use credit information.violations fair credit reporting act p.please advised federal statutes fair credit reporting act u c.fair credit reporting act fcra u c.accordance fair credit reporting act section u c.required section fair credit reporting act u c.incorrect reporting violation fair credit reporting act f c r.problem violation fair credit reporting act illegal.must deleted per say fair credit reporting act.fair credit reporting act duty report supplementary information credit bureaus.creditor violation several consumer credit rights fair credit reporting act.according section fair credit reporting act permissible purposes consumer reports u code 1681b general.entitled fair credit report like anyone else.per fair credit reporting act hippa law.explains responsibilities fair credit reporting act fcra.explains responsibilities fair credit reporting act fcra.acts fair credit reporting act fair credit billing act equal credit opportunity act truth lending act fair debt collection practices act.well know violation fair credit reporting act report erroneous information credit report.huge violation fair credit report act entitled violation.wanted file request according section fair credit reporting act.violation fair credit reporting act section 1681b c.fair credit reporting act fcra federal law regulates credit reporting agencies compels insure information gather distribute fair accurate summary consumer credit history.fair credit reporting act fcra states accurate complete verifiable information reported.please note days complete investigation per fair credit reporting act section keeping careful record actions including method verification.please note days complete investigation per fair credit reporting act section keeping careful record actions including method verification.violates fair credit billing act.contention fair credit reporting act requires credit bureaus report manner fair equitable consumer possibility misinterpretation.understand per fair credit reporting act required notify investigation results within days.third time violated rights fair credit reporting act',\n",
       " 14: 'xxxx xxxx xxxx received phone call.received phone call xxxx xxxx xxxx xxxx xxxx xx xx.received phone call xxxx xxxx xxxx xxxx xxxx xxxx xxxx.xxxx xxxx xxxx received call xxxx.received phone call today xxxx xxxx xxxx.received calls xx xx xxxx xxxx.call received xx xx xxxx xxxx.xx xx received phone call xxxx caller id indicating xxxx xxxx xxxx xxxx ca.received phone call company called xxxx.received xxxx calls since xx xx xxxx.xx xx received call company.caller id gave xxxx.xx xx xxxx xxxx called xxxx xxxx xxxx got voice message.received phone call morning xxxx xxxx xxxx unknown number.xxxx xxxx called xxxx stated call back number xxxx.received several phone calls lady identified xxxx xxxx.around xxxx received incoming call seterus inc xxxx xxxx xxxx.made phone call beginning xx xx xxxx spoke xxxx xxxx concerning letter.called xxxx xxxx call discuss letter received voicemail.xxxx xxxx xxxx received automated call xxxx asking call back xxxx.xxxx today son xxxx received call respond.number call xxxx.receiving phone calls xxxx xxxx day.since received xxxx calls.xx xx xxxx returned call xxxx xxxx friday xx xx xxxx indicated voice message.received call xxxx xxxx went voicemail.number keeps calling xxxx.dealing problem since xxxx xxxx phone calls correct avail.xxxx phone calls today.receive phone call back called xxxx back.received either xx xx xxxx called.received phone call xxxx xxxx xxxx message stating would working request.xxxx xxxx several phone message sls returned call.call xxxx xxxx xxxx xxxx xxxx.call xxxx xxxx xxxx xxxx xxxx.xxxx times customer service person told someone would call.receiving repeated calls xxxx xxxx phone number xxxx ext xxxx',\n",
       " 15: 'made complaint regarding xxxx xxxx xxxx.initial complaint xx xx xxxx.regarding previous complaint xxxx.regarding previous complaint xxxx.filed complaint xxxx.complaint filed xxxx xxxx xx xx xxxx.complaint linked xxxx.filed complaint xx xx.submitted complaint portal xxxx regards xxxx xxxx.filed complaint youll see xxxx.contacted xxxx company said contact regarding complaint.xxxx xxxx xxxx replied back complaint filed xxxx xxxx xxxx.please refer complaint xxxx.previous complaints xxxx xxxx.xxxx phone number found numerous complaints xxxx xxxx.response complaint xxxx.sent information xxxx xxxx first time enclose complaint.also filed complaint xxxx.please also consider official complaint xxxx employee.complaint issued.already filed complaint xxxx im sure issue xxxx transunion.filled complaint xxxx also matter urgent.filed xxxx complaint concerning matter found xxxx complaints.first called xxxx xxxx complaint.xxxx complaints.see previous complaint initial details.xxxx complaint contacted xxxx fraud department several times xxxx.xx xx xxxx xxxx xxxx xxxx xx xx xxxx notified dispute xxxx nothing done.since xx xx xxxx requested information complaining company investigating issues told available resource personal complaint department go.escalated claims complaint xx xx xxxx.would also like file complaint xxxx xxxx xxxx.p new complaint based original complaint xxxx.complaint xxxx resolved.complaint xxxx xxxx would like money back.received call xxxx regulatory complaints.complaint detailed.please assist complaint',\n",
       " 16: 'xxxx xxxx xxxx xxxx xxxx xxxx xxxx xxxx xxxx xxxx xxxx xxxx xxxx xxxx xxxx xxxx xxxx xxxx xxxx xxxx xxxx xxxx xxxx xxxx xxxx xxxx xxxx xxxx xxxx.xxxx xxxx xxxx xxxx xxxx xxxx xxxx xxxx xxxx xxxx xxxx xxxx xxxx xxxx xxxx xxxx xxxx xxxx xxxx xxxx xxxx.xxxx xxxx xxxx xxxx xxxx xxxx xxxx xxxx xxxx xxxx xxxx xxxx xxxx xxxx xxxx xxxx xxxx xxxx xxxx xxxx.xxxx xxxx xx xx xxxx xxxx xxxx xxxx xx xx xxxx xxxx xx xx xxxx xxxx xxxx xxxx xx xx xxxx xxxx xxxx xxxx.xxxx xxxx xxxx xxxx xxxx xxxx xxxx xxxx xxxx xxxx xxxx xxxx xxxx xxxx xxxx xxxx xxxx xxxx xxxx xxxx xxxx xxxx xxxx xxxx xxxx xxxx xxxx xxxx xxxx xxxx xxxx xxxx xxxx xxxx xxxx xxxx xxxx xxxx xxxx xxxx xxxx xxxx.xxxx xxxx xxxx xxxx xxxx xxxx xxxx xxxx xxxx xxxx xxxx xxxx xxxx xxxx xxxx xxxx xxxx xxxx xxxx xxxx xxxx xxxx xxxx xxxx xxxx xxxx xxxx xxxx xxxx xxxx xxxx xxxx7.xx xx xxxx xx xx xxxx xx xx xxxx xx xx xxxx xxxx xxxx xxxx xxxx xxxx xxxx xxxx xxxx xxxx xxxx xxxx.xx xx xxxx xx xx xxxx xx xx xxxx xx xx xxxx xx xx xxxx xx xx xxxx xx xx xxxx xx xx xxxx xx xx xxxx xx xx xxxx.xxxx xxxx xxxx xx xx xxxx xxxx xxxx xxxx xxxx xx xx xxxx xxxx xxxx xxxx xx xx xxxx xxxx xxxx xxxxxx xx xxxx xxxx xxxx xx xx xxxx xx xx xxxx xx xx xxxx xxxx xxxxxx xx xxxxxxxx xxxx xxxxxx xx xxxxxxxx xxxxxx xx xxxx xxxx xxxxxx xx xxxx xxxx xx xx xxxx.xx xx xxxx xxxx xxxx xxxx xxxx xxxx xx xx xxxx xxxx xxxx xxxx xxxx xxxx xxxx xxxx xxxx xxxx xx xx xxxx xx xx xxxx xx xx xxxx xxxx xxxx xxxx xxxx xxxx xx xx xxxx xxxx xxxx xxxx xxxx xxxx xxxx xxxx xxxx xxxx xx xx xxxx xxxx xxxx xxxx xxxx xxxx xx xx xxxx xx xx xxxx.xxxx xxxx xxxx xxxx xxxx xxxx xxxx xx xx xxxx xxxx xxxx xxxx xxxx xxxx xxxx xxxx xx xx xxxx xxxx xxxx xxxx xxxx xxxx xxxx xxxx xx xx xxxx xxxx xxxx xxxx xxxx xxxx xxxx xxxx xx xx xxxx xxxx xxxx xxxx xxxx xxxx xxxx xxxx xx xx xxxx xxxx xxxx xxxx xxxx xxxx xxxx xxxx xx xx xxxx.xxxx xxxx xxxx xxxx xxxx xxxx xxxx xxxx xxxx xxxx xxxx xxxx xxxx xxxx.xxxx xx xx xxxx xx xx xxxx xx xx xxxx xx xx xxxx xx xx xxxx xx xx xxxx xx xx xxxx.xxxx xxxxxx xx xxxx xxxx xxxx xx xx xxxx10 xxxx xx xx xxxx xxxx xxxx xxxx xx xx xxxx12.xxxx xxxx xxxx xxxx xxxx xxxx xxxx xxxx xxxx xxxx.xxxx xxxx xxxx xxxx xxxx xxxx xxxx xxxx xxxx.xxxx xxxx xxxx xxxx xxxx xxxx xxxx xxxx xxxx.xxxx xxxx xx xx xxxx xx xx xxxx xxxx xxxx xxxx xx xx xxxx xxxx xx xx xxxx xxxx xxxx xxxx xx xx xxxx xxxxxx xx xxxx xx xx xxxx xxxx xxxx xxxx xxxx xx xx xxxx xx xx xxxx xxxx xxxx xx xx xxxx xx xx xxxx xxxx xxxx xxxx xx xx xxxx xxxx xxxxxx xx xxxx xxxx xxxx xxxx xx xx xxxx xxxx xxxx xxxx xxxx xx xx xxxx xxxx xxxx xxxxxx xx xxxx xx xx xxxx xxxx xxxx xxxx xx xx xxxx xxxx xxxx xx xx xxxx.xxxx xxxx xxxx xxxx xxxx xxxx xxxx xxxxxxxx.xxxx xxxx xxxx xxxx xxxxxxxxxxxx xxxx xxxx.xxxx xxxx xxxx xxxx xx xx xxxx xx xx xxxx13 xxxx xxxx xx xx xxxx.xxxx xxxx xxxx xxxx xxxx xxxx xxxx xxxx.xxxx xxxx xxxx xxxx xxxx xxxx xxxx xxxx.xxxx xxxx xxxx xxxx xxxx xxxx xxxx xxxx xxxx xxxx xxxx xxxx xxxx xxxx xxxx xxxx xxxx xxxx xxxx xxxx xxxx xxxx xxxx xxxx xxxx xxxx xxxx xxxx xxxx xxxx xxxx xxxx xxxx xxxx xxxx xxxx xxxx xxxx xxxx xxxx xxxx xxxx xxxx xxxx xxxx xxxx xxxx xxxx xxxx xxxx xxxx xxxx xxxx xxxx xxxx xxxx xxxx xxxx xxxx xxxx xxxx xxxx xxxx xxxx xxxx xxxx xxxx xxxx xxxx xxxx xxxx xxxx xxxx xxxx xxxx xxxx xxxx xxxx xxxx xxxx xxxx xxxx xxxx xxxx xxxx xxxx xxxx xxxx xxxx xxxx xxxx xxxx xxxx xxxx xxxx xxxx xxxx xxxx nj xxxx xxxx xxxx xxxx xxxx xxxx xxxx xxxx xxxx nj xxxx xxxx xxxx xxxx xxxx xxxx xxxx xxxx xxxx xxxx xxxx xxxx.xxxx xxxx xxxx xxxx xxxx xxxx xxxx xxxx xxxx xxxx xxxx ca xxxx.xxxx xxxx xxxx xxxx xxxx xxxx xxxx.xxxx xxxx xxxx xxxx xxxx xxxx xxxx.xxxx xxxx xxxx xxxx xxxx xxxxxxxx.following inquiries mine xxxx xxxx xxxx xx xx xxxx xxxx xxxx xx xx xxxx xxxx xx xx xxxx xxxx xx xx xxxx xxxx xx xx xxxx xxxx xxxx xxxx xx xx xxxx xxxx xx xx xxxx xxxx xx xx xxxx xxxx xx xx xxxx.xx xx xxxx xx xx xxxx xx xx xxxx xxxx.xx xx xxxx xxxx xxxx xxxx xx xx xxxx.xxxx xxxx xxxx xxxx xxxx xxxx xxxxca xxxx.xxxx xxxx xxxx xxxx xxxxxxxxxxxx.xxxx xxxx xxxx xxxx xxxxxxxxxxxx xxxx xxxx thanks.xxxx xxxx xxxx xxxx xxxx xxxx xxxx xxxx xxxx xxxx xxxx xxxx xxxx xxxx xxxx xxxx xxxx xxxx xxxx xxxx xxxx xxxx xxxx xxxx xxxx xxxx xxxx xxxx xxxx xxxx xxxx xxxx xxxx xxxx xxxx xxxx xxxx xxxx xxxx xxxx xxxx xxxx xxxx xxxx xxxx xxxx xxxx xxxx xxxx xxxx xxxx xxxx xxxx xxxx xxxx xxxx xxxx xxxx xxxx xxxx xxxx xxxx xxxx xxxx xxxx xxxx xxxx xxxx xxxx xxxx xxxx xxxx xxxx xxxx xxxx xxxx xxxx xxxx xxxx xxxx xxxx xxxx xxxx xxxx xxxx xxxx xxxx xxxx xxxx xxxx xxxx xxxx xxxx xxxx xxxx xxxx xxxx xxxx xxxx xxxx xxxx xxxx xxxx xxxx xxxx xxxx xxxx xxxx xxxx xxxx xxxx xxxx xxxx xxxx page inquiries xxxx xxxx xxxx xxxx xxxx xxxx xxxx xxxx xxxx xxxx xxxx xxxx xxxx xxxx xxxx xxxx xxxx xxxx xxxx xxxx xxxx xxxx xxxx xxxx xxxx xxxx xxxx xxxx xxxx xxxx xxxx xxxx xxxx xxxx xxxx xxxx xxxx xxxx xxxx xxxx xxxx xxxx xxxx xxxx xxxx xxxx xxxx xxxx xxxx xxxx xxxx xxxx xxxx xxxx xxxx xxxx xxxx xxxx xxxx xxxx xxxx xxxx xxxx xxxx xxxx xxxx xxxx xxxx xxxx xxxx xxxx xxxx xxxx xxxx xxxx xxxx xxxx xxxx xxxx xxxx xxxx xxxx xxxx xxxx xxxx xxxx xxxx xxxx xxxx xxxx xxxx xxxx xxxx xxxx xxxx xxxx xxxx xxxx xxxx xxxx xxxx xxxx xxxx xxxx xxxx xxxx xxxx xxxx xxxx xxxx',\n",
       " 17: 'filed complaint cfpb matter.xx xx submit complaint cfpb cfpb submit complaint experian.submitted 2nd complaint cfpb.complaint related cfpb case number xxxx see attachment entitled cfpb case xxxx.stated cfpb would best place file complaint resolution made would refer us attorney assist.received check filed complaint cfbp.support cfpb complaint id xxxx.contact consumer financial protection bureau cfpb file complaint matter.submitted claim cfpb xxxx complaint number xxxx.continuation cfpb complaint xxxxdebt years old.currently cfpb working complaint xxxx.previously submitted complaint cfpb regarding matter case number xxxx.also filed complaint cfpb get accurate results runaround.submit complain cfpb case xxxx.everytime file complaint cfpb appears retaliation complaining agency.attached proof dispute complaint cfpb gov.xxxx xxxx xxxx submit complaint cfpb let government deal xxxx xxxx really sorry.xxxx xxxx xxxx make complaint cfpb.submitted formal complaint consumer financial protection bureau cfpb complaint number xxxx.case xxxx speaking representative cfpb response received xxxx xxxx xxxx addressing main issue time suggested send new complaint supply feedback contact attorney.thanked representative time told would filing complaint cfpb.contacted attorney advised file xxxx complaint xxxx credit bureaus cfpb.reach cfpb taking legal action.cfpb please know duplicate complaint documents sent previous complaint.filed cfpb complaint xxxx xxxx xx xx xxxx regarding credit reporting issues related capital one auto finance complaint xxxx.xxxx see letter dated xxxx xxxx xxxx xxxx xxxx xxxx filing cfpb complaint xxxx xxxx original creditor fdic opened complaint ref xxxx dated xxxx xxxx xxxx.last call received told rep going file complaint company cfpb told.filed complaint cfpb file another complaint first complaint phh comply letter sent dated xx xx xxxx.recently filed complaint cfpb later contacted directly representative campus partners.placing complaint cfpb ensure abuse continue harm others.responded allegations first complaint cfpb postpone sixty days modification complete finished tax return.filing complaint cfpb ask help disputing method verification used equifax xxxx xxxx xxxx credit reporting agencies.xxxx va xxxx complaint cfpb dear xxxx xxxx receipt complaint happy respond concerns.forwarded complaint states attorney generals office office forwarded complaint cfpb.considering cfpb complaint believe mis treated compared customers',\n",
       " 18: 'account xxxx xxxx xxxx opened xxxx closed xxxx.opened account xx xx xxxx.account opened xxxx.accounts opened xx xx.opened accounts xxxx xxxx.closed account xx xx.account properly closed xxxx.account number account xxxx xxxx xxxx xxxx opened xx xx xxxx.account closed.xxxx account xxxx opened onxx xx xxxx account disconnected xx xx xxxx.collection account xxxx opened xxxx closed xxxx name.account name opened.xx xx account resolved xxxx xxxx xxxx account satisfied closed.closed account.closed account.account closed approximately xx xx xxxx thereabouts.closed accounts.account xxxx xxxx xxxx xxxx xxxx open date xx xx.account paid closed xx xx xxxx xxxx.xxxx xxxx xxxx opened xx xx origianl creditor name xxxx xxxx xxxx xxxx xxxx amount account closed.account opened xxxx using personal information.think something right account seem like opened account closed.xxxx xxxx xxxx informed xx xx xxxx closing account.reopen account.xxxx xxxx xxxx xxxx account xxxx date opened xx xx xxxx xxxx xx xx xxxx xxxx xxxx xx xx xxxx xxxx xxxx xxxx xx xx xxxx xxxx xx xx xxxx xx xx xxxx xx xx xxxx.informed account closed xx xx.date account opened xx xx.account settled xxxx xxxx xxxx closed.xxxx xxxx transunion xxxx xxxx xxxx xx xx xxxx account closed xx xx xxxx shows open closed keeps showin late.addition closing account concern ending xxxx also closed account ending xxxx.never opened account xxxx xxxx xxxx.account paid closed xxxx xxxx xxxx xxxx xxxx xxxx mers',\n",
       " 19: 'sincerely xxxx xxxx xxxx.sincerely xxxx xxxx xxxx.sincerely xxxx xxxx xxxx.sincerely xxxx xxxx xxxx.sincerely xxxx xxxx xxxx.sincerely xxxx xxxx xxxx.sincerely xxxx xxxx xxxx.sincerely xxxx xxxx xxxx xxxx.sincerely xxxx xxxx.sincerely xxxx xxxx.sincerely xxxx xxxx.sincerely xxxx xxxx.sincerely xxxx xxxx.sincerely xxxx xxxx.sincerely xxxx xxxx.sincerely xxxx xxxx.sincerely xxxx xxxx.sincerely xxxx xxxx.sincerely xxxx xxxx.sincerely xxxx xxxx.sincerely xxxx xxxx.sincerely xxxx xxxx xxxx xxxx xxxx.sincerely xxxx xxxx phone xxxx email xxxx xxxx.sincerely xxxx xxxx xxxx xxxx xxxx xxxx xxxx il.p sincerely xxxx xxxx xxxx.sincerely xxxx.sincerely xxxx.sincerely xxxx xxxx xxxx end letter.sincerely xxxx xxxx xx xx xxxx xxxx xxxx xxxx xxxx va xxxx xxxx.sincerely xxxx xxxx xxxx xxxx xxxx xxxx xxxx fl xxxx xxxx xxxx.sincerely xxxx xxxx xxxx xxxx xxxx xxxx xxxx fl xxxx xxxx dob xx xx xxxx.sincerely xxxx xxxx dob xx xx xxxx xxxx xxxx xxxx xxxx xxxx fl xxxx ss xxxx xxxx xxxx',\n",
       " 20: 'filed chapter xxxx bankruptcy xxxx xxxx xxxx.filed chapter xxxx bankruptcy xx xx xxxx.filed chapter xxxx bankruptcy xx xx discharged xx xx.chapter xxxx bankruptcy chapter xxxx bankruptcy xxxx.xxxx xxxx discharged chapter xxxx bankruptcy.xx xx xxxx filed chapter xxxx bankruptcy lawyer xxxx pa.filed bankruptcy xx xx.xxxx credit discharged chapter xxxx bankruptcy.back xxxx xxxx filed bankruptcy.completed chapter xxxx bankruptcy started xxxx actually completed xx xx xxxx early.told yes copy chapter xxxx bankruptcy xxxx xxxx xxxx case.bankruptcy since xx xx xxxx discharged xx xx xxxx.xxxx filed bankruptcy xx xx xxxx acquired xxxx xxxx bought xxxx.filed bankruptcy starting chapter xxxx moving chapter xxxx.mortgage loan included chapter xxxx bankruptcy filed xxxx xxxx xxxx completed successfully xxxx xxxx xxxx.filed bankruptcy n xx xx xxxx could get discharged.chapter xxxx filed xxxx loan previously xxxx xxxx.chapter xxxx bankruptcy listed xx xx xxxx equifax credit report.eventually file bankruptcy xxxx xxxx.page xxxx example xxxx xxxx reported debt included discharged bankruptcy chapter xxxx xxxx xxxx last reported xx xx xxxx.xxxx xxxx xxxx xxxx xxxx chapter xxxx bankruptcy court xxxx xxxx xxxx florida.account bankruptcy xx xx.dispute filed xx xx xxxx regarding public record chapter xxxx bankruptcy xxxx appears credit report belong.discharged chapter xxxx bankruptcy transunion credit reports belong.illegal filed chapter xxxx bankruptcy forgiven debt.bankruptcy chapter xxxx dismissed reference xxxx experian xxxx xxxx bankruptcy chapter xxxx dismissed reference xxxx xxxx experian xxxx xxxx xxxx xxxx xxxx account xxxx experian xxxx xxxx xxxx xxxx acct xxxx experian xxxx xxxx xxxx xxxx acct xxxx experian xxxx xxxx xxxx xxxx acct xxxx experian xxxx xxxx xxxx acct xxxx experian xxxx xxxx xxxx acct xxxx xxxx xxxx experian xxxx xxxx xxxx acct xxxx xxxx xxxx xxxx acct xxxx xxxx xxxx xxxx xxxx xxxx xxxx xxxx acct xxxx xxxx xxxx xxxx xxxx acct xxxx xxxx xxxx acct xxxx xxxx.due timeframe xxxx xxxx filed bankruptcy xxxx xxxx last ditch effort save home.filed chapter xxxx final xxxx.bankruptcy.chapter xxxx bankruptcy reported xxxx xxxx equifax reporting bureaus.years later put new bankruptcy added years xx xx xxxx get',\n",
       " 21: 'received letter xx xx xxxx xxxx xxxx.received letter xxxx xxxx xxxx around xx xx xxxx.letters received xxxx.xxxx sent letter xxxx xxxx.xxxx sent xxxx letter.today xxxx xxxx xxxx received letter.letter submitted xxxx xxxx xxxx.sent letter xxxx xxxx xxxx response.mailed xx xx xxxx received xx xx xxxx via xxxx.letter received experian xx xx xxxx.received letter xxxx xxxx xxxx completed request xxxx xxxx xxxx.received letter late evening xx xx xxxx.sent xxxx xxxx certified letter xx xx xxxx xxxx received letter xx xx xxxx xxxx.received confirmation via letter xx xx xxxx.little week later received letter xxxx xxxx.sent another letter xxxx xxxx xxxx.xxxx xxxx said xxxx xxxx said sent letter overnight must gotten xxxx xxxx.sent xxxx different letters first xxxx xxxx xxxx received signed xxxx xxxx second xxxx xxxx xxxx received signed xxxx xxxx xxxx.received confirmation letter xxxx.received another letter dated xxxx xxxx xxxx requesting information.received letter datedxx xx c.letter received.received xxxx letters dated xxxx xxxx please see attachment.received numerous letters.received least xxxx letters called xxxx times.xxxx sent initial notification letter xxxx xxxx xxxx.xx xx received letter mail regarding payment.letter sent xx xx xxxx certified mail receipt number xxxx.receive letter xx xx information.xx xx xxxx received letter via certified mail.received xx xx xxxx',\n",
       " 22: 'told debt collector looking collect debt.collector sold debt trying come debt.call debt collector.received debt collector letter stating owe debt.clarification debt collectors.notified debt collector verification debt.requested debt collector contract assigned.despite debt collector claims acting behalf continued attempt collect debt.verification alleged debt assigned sold collector.debt collector trying collect hospital xx xx.debt collector also reported credit report.long debt collector continue collect old debt.commission debt collector collection efforts successful.commission debt collector collection efforts successful.commission debt collector collection efforts successful.commissions debt collector collection efforts successful.verification debt assigned sold collector.verification debt assigned sold collector.verification debt assigned sold collector.verification debt assigned sold collector.received evidence debt collectors accounts mine.purchase price information alleged creditor commission debt collector collection efforts successful.previously paid debt collector lesser amount shows report.identify debt collectors attempted get personal information.company attempting collect debt say assigned.debt collectors third party debt collectors.collection company trying make pay collection fee debt paid years ago doctor n know company thinks collect.never contacted debt collector recover amount.collection agency contacted debt.informed contacted third party debt collector',\n",
       " 23: '1681c block except otherwise provided section consumer reporting agency shall block reporting information file consumer consumer identifies information resulted alleged identity theft later business days date receipt agency appropriate proof identity consumer copy identity theft report identification information consumer statement consumer information information relating transaction consumer.except otherwise provided section consumer reporting agency shall block reporting information file consumer consumer identifies information resulted alleged identity theft later business days date receipt agency appropriate proof identity consumer copy identity theft report identification information consumer statement consumer information information relating transaction consumer.except otherwise provided section consumer reporting agency shall block reporting information file consumer consumer identifies information resulted alleged identity theft later business days date receipt agency appropriate proof identity consumer copy identity theft report identification information consumer statement consumer information information relating transaction consumer.except otherwise provided section consumer reporting agency shall block reporting information file consumer consumer identifies information resulted alleged identity theft later business days date receipt agency appropriate proof identity consumer copy identity theft report identification information consumer statement consumer information information relating transaction consumer.except otherwise provided section consumer reporting agency shall block reporting information file consumer consumer identifies information resulted alleged identity theft later business days date receipt agency appropriate proof identity consumer copy identity theft report identification information consumer statement consumer information information relating transaction consumer.except otherwise provided section consumer reporting agency shall block reporting information file consumer consumer identifies information resulted alleged identity theft later business days date receipt agency appropriate proof identity consumer copy identity theft report identification information consumer statement consumer information information relating transaction consumer.except otherwise provided section consumer reporting agency shall block reporting information file consumer consumer identifies information resulted alleged identity theft later business days date receipt agency appropriate proof identity consumer copy identity theft report identification information consumer statement consumer information information relating transaction consumer.except otherwise provided section consumer reporting agency shall block reporting information file consumer consumer identifies information resulted alleged identity theft later business days date receipt agency -- appropriate proof identity consumer copy identity theft report identification information consumer statement consumer information information relating transaction consumer.except otherwise provided section consumer reporting agency shall block reporting information file consumer consumer identifies information resulted alleged identity theft later business days date receipt agency.attached documentation see request eq xxxx xxxx block listed accounts according section code block information resulting identity theft u c c except otherwise provided section consumer reporting agency shall block reporting information file consumer consumer identifies information resulted alleged identity theft later days business days date receipt agency.fcra states section 605b consumer reporting agency shall block reporting information file consumer consumer identifies information resulted alleged identity theft later business days date receipt agency appropriate proof identity consumer copy identity theft report identification information consumer statement consumer information information relating transaction consumer.sole obligation consumer reporting agency section regard request consumer section shall block consumer report maintained consumer reporting agency subsequent use consumer accordance provisions subsection section identifies consumer reporting agency information file consumer resulted identity theft b consumer reporting agency reseller identified information.sole obligation consumer reporting agency section regard request consumer section shall block consumer report maintained consumer reporting agency subsequent use consumer accordance provisions subsection section identifies consumer reporting agency information file consumer resulted identity theft b consumer reporting agency reseller identified information.sole obligation consumer reporting agency section regard request consumer section shall block consumer report maintained consumer reporting agency subsequent use consumer accordance provisions subsection section identifies consumer reporting agency information file consumer resulted identity theft b consumer reporting agency reseller identified information.sole obligation consumer reporting agency section regard request consumer section shall block consumer report maintained consumer reporting agency subsequent use consumer accordance provisions subsection section identifies consumer reporting agency information file consumer resulted identity theft b consumer reporting agency reseller identified information.sole obligation consumer reporting agency section regard request consumer section shall block consumer report maintained consumer reporting agency subsequent use consumer accordance provisions subsection section identifies consumer reporting agency information file consumer resulted identity theft b consumer reporting agency reseller identified information.sole obligation consumer reporting agency section regard request consumer section shall block consumer report maintained consumer reporting agency subsequent use consumer accordance provisions subsection section identifies consumer reporting agency information file consumer resulted identity theft b consumer reporting agency reseller identified information.consumer reporting agency shall promptly notify furnisher information identified consumer subsection section information may result identity theft identity theft report filed block requested section effective dates block.consumer reporting agency shall promptly notify furnisher information identified consumer subsection section information may result identity theft identity theft report filed block requested section effective dates block.consumer reporting agency shall promptly notify furnisher information identified consumer subsection section information may result identity theft identity theft report filed block requested section effective dates block.consumer reporting agency shall promptly notify furnisher information identified consumer subsection section information may result identity theft identity theft report filed block requested section effective dates block.consumer reporting agency shall promptly notify furnisher information identified consumer subsection section information may result identity theft identity theft report filed block requested section effective dates block.consumer reporting agency shall promptly notify furnisher information identified consumer subsection section information may result identity theft identity theft report filed block requested section effective dates block.consumer reporting agency shall promptly notify furnisher information identified consumer subsection section information may result identity theft identity theft report filed block requested section effective dates block.consumer reporting agency shall promptly notify furnisher information identified consumer subsection section-- information may result identity theft identity theft report filed block requested section effective dates block.sole obligation consumer reporting agency section regard request consumer section shall block consumer report maintained consumer reporting agency subsequent use -- consumer accordance provisions subsection section identifies consumer reporting agency information file consumer resulted identity theft b consumer reporting agency reseller identified information.person furnishes information consumer reporting agency shall place reasonable procedures respond notification receives consumer reporting agency section 1681c title relating information resulting identity theft prevent person refurnishing blocked information.person furnishes information consumer reporting agency shall place reasonable procedures respond notification receives consumer reporting agency section 1681c title relating information resulting identity theft prevent person refurnishing blocked information.person furnishes information consumer reporting agency shall place reasonable procedures respond notification receives consumer reporting agency section 1681c title relating information resulting identity theft prevent person refurnishing blocked information.person furnishes information consumer reporting agency shall place reasonable procedures respond notification receives consumer reporting agency section 1681c title relating information resulting identity theft prevent person refurnishing blocked information',\n",
       " 24: 'account opened fraudulent.accounts opened fraudulently.previous dispute initiated fraudulently opened account.fraudulent account.fraudulent account.pertaining fraudulent account.fraudulent accounts.account fraudulent belong.account fraudulent belong.account opened xxxx identity theft.victim fraud someone opened account name xxxx xxxx xxxx.xxxx xxxx xxxx fraud error late account opened xx xx xxxx.default concluded account fraudulent belong.account opened without permission several fraudulent charges applied card.fraud department said close account open new one.determined account result someone using personal information fraudulently xxxx mi opening xxxx account illegally.old account fraud account.writing dispute account fraudulently opened name.therefore account fraudulently opened fraudulently reported xxxx contfin xxxx xxxx credit agencies.fighting fraudulent accounts opened name ever since.writing dispute accounts fraudulently opened name.someone stole personal information opened following fraudulent accounts name.told charges made would close fraudulent account immediately.reached company credit bureaus inform account open fraudulently.done nothing fraudulent mishandled accounts way years banked.xx xx xxxx called told account closed fraud application.accounts fraudulent xxxx xxxx xxxx xxxx.xxxx xxxx xxxx xxxx fraud signature verification date opened xx xx xxxx past years old account',\n",
       " 25: 'charged late fee concerning xxxx payment.charged xxxx late fees.despite payment xxxx issued late fee xxxx xxxx.nothing showed xxxx account payment charged late fee.advising late charge fee assessed account xxxx payment.early xxxx called xxxx customer service third time dispute finance fees late payment fee.stated monthly statements payment received xx xx xxxx late fee charged.never paid late fee charged another.made another payment xxxx xxxx issued even greater late fee xxxx xxxx.said late charges pay xxxx.initially charged late fees total.called xx xx get fee waived late payment.upon submitting payment told may incur late fee.started late payment fees.charged late fee exceeds entire installment.xxxx plus dollars indicate fees late charges bogus charges.unsure still penalized late payment late payment fee reversed.following month received charge card fee charge xxxx late pay xxxx min interest charge.charged late fees plus interest.also payments making included told late fee xxxxmo.never charged late fee.xxxx late payment.billed excess charged late fees well.wanted pay bill agreed eliminate late fees insisted pay interest charges.dont pay payment within days going start charging late fees dont pay soon.called told hadnt made last payment time account charged late fee',\n",
       " 26: 'negatively affecting credit report score.negatively affecting credit score.affecting credit report score.reporting impacting credit history negatively impacting credit score.greatly affecting credit score.adversely affecting credit score.adversely affecting credit score.negative information damaging credit score.negatively affected credit.bank negatively impacting credit score.see attached report posted credit report negative impact credit.incorrect reporting harming credit score.incorrect reporting harming credit score.incorrect reporting harming credit score.incorrect reporting harming credit score.incorrect reporting harming credit score.incorrect reporting harming credit score.adversely affected credit decreasing credit score substantially.credit score report negatively effected negligence.incorrect reporting harming credit scores.incorrect reporting harming credit scores.incorrect reporting harming credit scores.negatively impacting credit report family.information incorrect negatively affecting credit report.affected overall credit rating score.ongoing issue last year negatively effected credit score',\n",
       " 27: 'disputed account xxxx xxxx back n xx xx xxxx xxxx.disputed account originally xxxx xx xx xxxx see.xx xx disputed account.disputed account xxxx told account.disputed account.previously disputed account.previously disputed account.previously disputed account.disputed account several occasions.disputed account several occasions.reached xxxx xxxx xxxx disputed account mine.following account previously disputed many times prevail.following account dispute xxxx xxxx xxxx xxxx xx xx.previously disputed account account.disputed verification account.disputed account belong.xx xx xxxx disputed two accounts pra.disputed account xxxx xxxx received letter xxxx xxxx stating erroneously sold debt xxxx xxxx xxxx please note account sold xx xx xxxx xxxx xxxx sincerely xxxx xxxx behalf xxxx xxxx.disputed account letting know reinserted account removed due disputing account inaccurate.disputed xx xx xxxx.failing even reinvestigate disputed account.disputed account equifax times last time xx xx xxxx recent today xx xx xxxx.disputed account listed times xxxx experian.account disputed several times time xxxx xxxx mail letter saying dispute item.several occassions disputed xxxx xxxx xxxx xxxx xxxx xxxx account paid full creditor xx xx xxxx.disputed transactions xxxx bank xx xx charges made xx xx xxxxto xx xx xxxx',\n",
       " 28: 'xxxx xxxx xxxx xxxx xxxx credit card.xxxx xxxx xxxx credit card.xxxx xxxx credit card.xxxx xxxx xxxx xxxx visa credit card.includes xxxx xxxx xxxx xxxx credit card.xxxx xxxx xxxx xxxx credit card mastercard last digits xxxx.regards xxxx xxxx credit card.xxxx xxxx xxxx never wanted credit card.xxxx xxxx xxxx card xxxx.xxxx xxxx xxxx card xxxx.xxxx xxxx xxxx card xxxx.xxxx xxxx xxxx card.xxxx xxxx xxxx card.xxxx xxxx xxxx xxxx xxxx xxxx mastercard.store credit card xxxx xxxx xxxx.applied xxxx xxxx credit card xxxx xxxx xxxx.card number xxxx visa xxxx xxxx xxxx.put xxxx credit card department.paid american express credit card xxxx xxxx.used xxxx pay something using xxxx credit card.citibank xxxx xxxx credit card.xx xx xxxx paid annual premium credit card.xxxx xxxx card.xxxx xxxx xxxx xxxx credit card manage via xxxx xxxx website xxxx.credit cards.also happening xxxx xxxx credit card xxxx xxxx xxxx xxxx',\n",
       " 29: 'ii lawful right accordance fair debt collection practices act fdcpa sent via united states postal service letter requesting formal debt validation.fair debt collection practices act fdcpa right request validation debt say owe.fair debt collections practices act fdcpa request validation.conformance rights fair debt collection practices act fdcpa requesting provide validation debt please note refusal pay rather statement claim disputed validation demanded.pursuant fair debt collection practices act fdcpa u c 1692g dispute validity debt purport owe.pursuant fair debt collection practices act fdcpa u c 1692g dispute validity debt purport owe.vii collection calls received weekly xx xx xxxx xx xx xxxx violation fdcpa section part b viii xx xx xxxx sent via united states postal service certified mail return receipt requested third letter requesting formal debt validation.act fair debt collection practices act fdcpa.contacted xxxx thru certified mail requested validation said debt pursuant fdcpa.pursuant fair debt collection practices act fdcpa u c 169g dispute validity debt purport owe.fair debt collection practices act fdcpa.well aware rights fair debt collection practice act fdcpa state laws hope save us great deal time letting know dispute validity debt also checked state attorney general verified statue limitation enforcing type debt courts xxxx xxxx expired.furthermore collection agency refuses send debt validation per fdcpa xxxx collector claimed dose send xxxx.request validation made pursuant fair debt collection practices act.request validation made pursuant fair debt collection practices act.letter request follow fdcpa provide following validation debt request proof right collect alleged debt balance claimed including fees interest penalties contract bearing personal signature license proof collect debts state may aware admission silence legally means duty defend position failed claims untrue would compelled deny charges.pursuant fair debt8 collection practices act fdcpa u c 1692g dispute validity debt purport owe.laws fdcpa contacted collection agency unable get verify indeed debt.blatant violation fair debt collection practices act fdcpa sec.fdcpa according recent findings federal trade commission must send valid proof debt printout records valid.right ask validation said debt pursuant usc 1692g sec b fdcpa.submitted numerous cease communications letters xxxx accordance state federal fair debt collection practices acts.letter asked validation alleged debt fair debt collection practices act.xxxx xxxx based aforementioned facts supported attached letter xxxx xxxx conduct includes following violation fdcpa usc 1692g failed cease collection debt timely disputed validated verified debt thru credit reporting agencies.requesting validation made pursuant fair debt collection practices act fcra along corresponding local state laws',\n",
       " 30: 'monthly payments paid time.monthly payments.monthly payments.monthly payment.payments month.making payments time.monthly payment amount.payments made time.made payment every month.made payments time.make payment time.always paid monthly loan time.asked monthly payment.paid monthly.original payments monthly.struggle month make payments making time.using payment amounts total payments made duration months.paying month every time got one paid.pay month.always made payments time.always made payments time.always made payments time.always made payments time.always made payments time.well made payments every month months'}"
      ]
     },
     "execution_count": 4,
     "metadata": {},
     "output_type": "execute_result"
    }
   ],
   "source": [
    "from sentence_transformers import util\n",
    "import time\n",
    "\n",
    "print(\"Start clustering\")\n",
    "start_time = time.time()\n",
    "\n",
    "#Two parameters to tune:\n",
    "#min_cluster_size: Only consider cluster that have at least 25 elements\n",
    "#threshold: Consider sentence pairs with a cosine-similarity larger than threshold as similar\n",
    "clusters = util.community_detection(sentence_embeddings, min_community_size=25, threshold=0.75)\n",
    "\n",
    "print(\"Clustering done after {:.2f} sec\".format(time.time() - start_time))\n",
    "\n",
    "\n",
    "\n",
    "#Print for all clusters the top 3 and bottom 3 elements\n",
    "for i, cluster in enumerate(clusters):\n",
    "    print(\"\\nCluster {}, #{} Elements \".format(i+1, len(cluster)))\n",
    "    for sentence_id in cluster[0:3]:\n",
    "        print(\"\\t\", sentences[sentence_id])\n",
    "    print(\"\\t\", \"...\")\n",
    "    for sentence_id in cluster[-3:]:\n",
    "        print(\"\\t\", sentences[sentence_id])\n",
    "\n",
    "cluster_map = {}\n",
    "for i, cluster in enumerate(clusters):\n",
    "    sent_list = []\n",
    "    for sentence_id in cluster:\n",
    "        sent_list.append(sentences[sentence_id])\n",
    "    cluster_map[i] = sent_list\n",
    "\n",
    "\n",
    "cluster_map_1 = {}\n",
    "for k,v in cluster_map.items():\n",
    "  s = '.'.join(v)\n",
    "  cluster_map_1[k] = s\n",
    "\n",
    "cluster_map_1"
   ]
  },
  {
   "cell_type": "code",
   "execution_count": 5,
   "id": "3e845f87",
   "metadata": {},
   "outputs": [
    {
     "name": "stderr",
     "output_type": "stream",
     "text": [
      "c:\\users\\bishw\\appdata\\local\\programs\\python\\python38\\lib\\site-packages\\transformers\\configuration_utils.py:336: UserWarning: Passing `gradient_checkpointing` to a config initialization is deprecated and will be removed in v5 Transformers. Using `model.gradient_checkpointing_enable()` instead, or if you are using the `Trainer` API, pass `gradient_checkpointing=True` in your `TrainingArguments`.\n",
      "  warnings.warn(\n",
      "[nltk_data] Downloading package wordnet to\n",
      "[nltk_data]     C:\\Users\\bishw\\AppData\\Roaming\\nltk_data...\n",
      "[nltk_data]   Package wordnet is already up-to-date!\n"
     ]
    }
   ],
   "source": [
    "from zeroshot_topics import ZeroShotTopicFinder\n",
    "import nltk\n",
    "nltk.download('wordnet')\n",
    "zsmodel = ZeroShotTopicFinder()\n"
   ]
  },
  {
   "cell_type": "code",
   "execution_count": 7,
   "id": "9f4036f3",
   "metadata": {},
   "outputs": [
    {
     "name": "stderr",
     "output_type": "stream",
     "text": [
      "c:\\users\\bishw\\appdata\\local\\programs\\python\\python38\\lib\\site-packages\\transformers\\tokenization_utils_base.py:2227: UserWarning: `max_length` is ignored when `padding`=`True`.\n",
      "  warnings.warn(\"`max_length` is ignored when `padding`=`True`.\")\n"
     ]
    },
    {
     "data": {
      "text/plain": [
       "['Telephone', 'Inclination']"
      ]
     },
     "execution_count": 7,
     "metadata": {},
     "output_type": "execute_result"
    }
   ],
   "source": [
    "zsmodel.find_topic(cluster_map_1.get(14))"
   ]
  },
  {
   "cell_type": "code",
   "execution_count": 11,
   "id": "a27c8d71",
   "metadata": {},
   "outputs": [
    {
     "name": "stdout",
     "output_type": "stream",
     "text": [
      "Not available for 0\n",
      "Not available for 1\n"
     ]
    },
    {
     "name": "stderr",
     "output_type": "stream",
     "text": [
      "c:\\users\\bishw\\appdata\\local\\programs\\python\\python38\\lib\\site-packages\\transformers\\tokenization_utils_base.py:2227: UserWarning: `max_length` is ignored when `padding`=`True`.\n",
      "  warnings.warn(\"`max_length` is ignored when `padding`=`True`.\")\n",
      "c:\\users\\bishw\\appdata\\local\\programs\\python\\python38\\lib\\site-packages\\transformers\\tokenization_utils_base.py:2227: UserWarning: `max_length` is ignored when `padding`=`True`.\n",
      "  warnings.warn(\"`max_length` is ignored when `padding`=`True`.\")\n"
     ]
    },
    {
     "name": "stdout",
     "output_type": "stream",
     "text": [
      "['Condition', 'Activity']\n"
     ]
    },
    {
     "name": "stderr",
     "output_type": "stream",
     "text": [
      "c:\\users\\bishw\\appdata\\local\\programs\\python\\python38\\lib\\site-packages\\transformers\\tokenization_utils_base.py:2227: UserWarning: `max_length` is ignored when `padding`=`True`.\n",
      "  warnings.warn(\"`max_length` is ignored when `padding`=`True`.\")\n"
     ]
    },
    {
     "name": "stdout",
     "output_type": "stream",
     "text": [
      "['Acknowledgment', 'Aid']\n"
     ]
    },
    {
     "name": "stderr",
     "output_type": "stream",
     "text": [
      "c:\\users\\bishw\\appdata\\local\\programs\\python\\python38\\lib\\site-packages\\transformers\\tokenization_utils_base.py:2227: UserWarning: `max_length` is ignored when `padding`=`True`.\n",
      "  warnings.warn(\"`max_length` is ignored when `padding`=`True`.\")\n"
     ]
    },
    {
     "name": "stdout",
     "output_type": "stream",
     "text": [
      "['Informing', 'Document']\n"
     ]
    },
    {
     "name": "stderr",
     "output_type": "stream",
     "text": [
      "c:\\users\\bishw\\appdata\\local\\programs\\python\\python38\\lib\\site-packages\\transformers\\tokenization_utils_base.py:2227: UserWarning: `max_length` is ignored when `padding`=`True`.\n",
      "  warnings.warn(\"`max_length` is ignored when `padding`=`True`.\")\n"
     ]
    },
    {
     "name": "stdout",
     "output_type": "stream",
     "text": [
      "['Word', 'Commerce']\n"
     ]
    },
    {
     "name": "stderr",
     "output_type": "stream",
     "text": [
      "c:\\users\\bishw\\appdata\\local\\programs\\python\\python38\\lib\\site-packages\\transformers\\tokenization_utils_base.py:2227: UserWarning: `max_length` is ignored when `padding`=`True`.\n",
      "  warnings.warn(\"`max_length` is ignored when `padding`=`True`.\")\n"
     ]
    },
    {
     "name": "stdout",
     "output_type": "stream",
     "text": [
      "['Problem Solving', 'Questioning']\n"
     ]
    },
    {
     "name": "stderr",
     "output_type": "stream",
     "text": [
      "c:\\users\\bishw\\appdata\\local\\programs\\python\\python38\\lib\\site-packages\\transformers\\tokenization_utils_base.py:2227: UserWarning: `max_length` is ignored when `padding`=`True`.\n",
      "  warnings.warn(\"`max_length` is ignored when `padding`=`True`.\")\n"
     ]
    },
    {
     "name": "stdout",
     "output_type": "stream",
     "text": [
      "['Personality', 'News']\n"
     ]
    },
    {
     "name": "stderr",
     "output_type": "stream",
     "text": [
      "c:\\users\\bishw\\appdata\\local\\programs\\python\\python38\\lib\\site-packages\\transformers\\tokenization_utils_base.py:2227: UserWarning: `max_length` is ignored when `padding`=`True`.\n",
      "  warnings.warn(\"`max_length` is ignored when `padding`=`True`.\")\n"
     ]
    },
    {
     "name": "stdout",
     "output_type": "stream",
     "text": [
      "['Document', 'Informing']\n"
     ]
    },
    {
     "name": "stderr",
     "output_type": "stream",
     "text": [
      "c:\\users\\bishw\\appdata\\local\\programs\\python\\python38\\lib\\site-packages\\transformers\\tokenization_utils_base.py:2227: UserWarning: `max_length` is ignored when `padding`=`True`.\n",
      "  warnings.warn(\"`max_length` is ignored when `padding`=`True`.\")\n"
     ]
    },
    {
     "name": "stdout",
     "output_type": "stream",
     "text": [
      "['Indebtedness', 'Person']\n"
     ]
    },
    {
     "name": "stderr",
     "output_type": "stream",
     "text": [
      "c:\\users\\bishw\\appdata\\local\\programs\\python\\python38\\lib\\site-packages\\transformers\\tokenization_utils_base.py:2227: UserWarning: `max_length` is ignored when `padding`=`True`.\n",
      "  warnings.warn(\"`max_length` is ignored when `padding`=`True`.\")\n"
     ]
    },
    {
     "name": "stdout",
     "output_type": "stream",
     "text": [
      "['Document', 'Informing']\n"
     ]
    },
    {
     "name": "stderr",
     "output_type": "stream",
     "text": [
      "c:\\users\\bishw\\appdata\\local\\programs\\python\\python38\\lib\\site-packages\\transformers\\tokenization_utils_base.py:2227: UserWarning: `max_length` is ignored when `padding`=`True`.\n",
      "  warnings.warn(\"`max_length` is ignored when `padding`=`True`.\")\n"
     ]
    },
    {
     "name": "stdout",
     "output_type": "stream",
     "text": [
      "['Record', 'Financial Institution']\n"
     ]
    },
    {
     "name": "stderr",
     "output_type": "stream",
     "text": [
      "c:\\users\\bishw\\appdata\\local\\programs\\python\\python38\\lib\\site-packages\\transformers\\tokenization_utils_base.py:2227: UserWarning: `max_length` is ignored when `padding`=`True`.\n",
      "  warnings.warn(\"`max_length` is ignored when `padding`=`True`.\")\n"
     ]
    },
    {
     "name": "stdout",
     "output_type": "stream",
     "text": [
      "['Proof', 'Indebtedness']\n"
     ]
    },
    {
     "name": "stderr",
     "output_type": "stream",
     "text": [
      "c:\\users\\bishw\\appdata\\local\\programs\\python\\python38\\lib\\site-packages\\transformers\\tokenization_utils_base.py:2227: UserWarning: `max_length` is ignored when `padding`=`True`.\n",
      "  warnings.warn(\"`max_length` is ignored when `padding`=`True`.\")\n"
     ]
    },
    {
     "name": "stdout",
     "output_type": "stream",
     "text": [
      "['Document', 'Informing']\n"
     ]
    },
    {
     "name": "stderr",
     "output_type": "stream",
     "text": [
      "c:\\users\\bishw\\appdata\\local\\programs\\python\\python38\\lib\\site-packages\\transformers\\tokenization_utils_base.py:2227: UserWarning: `max_length` is ignored when `padding`=`True`.\n",
      "  warnings.warn(\"`max_length` is ignored when `padding`=`True`.\")\n"
     ]
    },
    {
     "name": "stdout",
     "output_type": "stream",
     "text": [
      "['Telephone', 'Inclination']\n"
     ]
    },
    {
     "name": "stderr",
     "output_type": "stream",
     "text": [
      "c:\\users\\bishw\\appdata\\local\\programs\\python\\python38\\lib\\site-packages\\transformers\\tokenization_utils_base.py:2227: UserWarning: `max_length` is ignored when `padding`=`True`.\n",
      "  warnings.warn(\"`max_length` is ignored when `padding`=`True`.\")\n"
     ]
    },
    {
     "name": "stdout",
     "output_type": "stream",
     "text": [
      "['Cry', 'Disorder']\n",
      "Not available for 16\n"
     ]
    },
    {
     "name": "stderr",
     "output_type": "stream",
     "text": [
      "c:\\users\\bishw\\appdata\\local\\programs\\python\\python38\\lib\\site-packages\\transformers\\tokenization_utils_base.py:2227: UserWarning: `max_length` is ignored when `padding`=`True`.\n",
      "  warnings.warn(\"`max_length` is ignored when `padding`=`True`.\")\n",
      "c:\\users\\bishw\\appdata\\local\\programs\\python\\python38\\lib\\site-packages\\transformers\\tokenization_utils_base.py:2227: UserWarning: `max_length` is ignored when `padding`=`True`.\n",
      "  warnings.warn(\"`max_length` is ignored when `padding`=`True`.\")\n"
     ]
    },
    {
     "name": "stdout",
     "output_type": "stream",
     "text": [
      "['Submission', 'Disorder']\n"
     ]
    },
    {
     "name": "stderr",
     "output_type": "stream",
     "text": [
      "c:\\users\\bishw\\appdata\\local\\programs\\python\\python38\\lib\\site-packages\\transformers\\tokenization_utils_base.py:2227: UserWarning: `max_length` is ignored when `padding`=`True`.\n",
      "  warnings.warn(\"`max_length` is ignored when `padding`=`True`.\")\n"
     ]
    },
    {
     "name": "stdout",
     "output_type": "stream",
     "text": [
      "['Section', 'News']\n"
     ]
    },
    {
     "name": "stderr",
     "output_type": "stream",
     "text": [
      "c:\\users\\bishw\\appdata\\local\\programs\\python\\python38\\lib\\site-packages\\transformers\\tokenization_utils_base.py:2227: UserWarning: `max_length` is ignored when `padding`=`True`.\n",
      "  warnings.warn(\"`max_length` is ignored when `padding`=`True`.\")\n"
     ]
    },
    {
     "name": "stdout",
     "output_type": "stream",
     "text": [
      "['Character', 'Text']\n"
     ]
    },
    {
     "name": "stderr",
     "output_type": "stream",
     "text": [
      "c:\\users\\bishw\\appdata\\local\\programs\\python\\python38\\lib\\site-packages\\transformers\\tokenization_utils_base.py:2227: UserWarning: `max_length` is ignored when `padding`=`True`.\n",
      "  warnings.warn(\"`max_length` is ignored when `padding`=`True`.\")\n"
     ]
    },
    {
     "name": "stdout",
     "output_type": "stream",
     "text": [
      "['Section', 'Debt']\n"
     ]
    },
    {
     "name": "stderr",
     "output_type": "stream",
     "text": [
      "c:\\users\\bishw\\appdata\\local\\programs\\python\\python38\\lib\\site-packages\\transformers\\tokenization_utils_base.py:2227: UserWarning: `max_length` is ignored when `padding`=`True`.\n",
      "  warnings.warn(\"`max_length` is ignored when `padding`=`True`.\")\n"
     ]
    },
    {
     "name": "stdout",
     "output_type": "stream",
     "text": [
      "['Acquiring', 'Acknowledgment']\n"
     ]
    },
    {
     "name": "stderr",
     "output_type": "stream",
     "text": [
      "c:\\users\\bishw\\appdata\\local\\programs\\python\\python38\\lib\\site-packages\\transformers\\tokenization_utils_base.py:2227: UserWarning: `max_length` is ignored when `padding`=`True`.\n",
      "  warnings.warn(\"`max_length` is ignored when `padding`=`True`.\")\n"
     ]
    },
    {
     "name": "stdout",
     "output_type": "stream",
     "text": [
      "['Indebtedness', 'Liabilities']\n"
     ]
    },
    {
     "name": "stderr",
     "output_type": "stream",
     "text": [
      "c:\\users\\bishw\\appdata\\local\\programs\\python\\python38\\lib\\site-packages\\transformers\\tokenization_utils_base.py:2227: UserWarning: `max_length` is ignored when `padding`=`True`.\n",
      "  warnings.warn(\"`max_length` is ignored when `padding`=`True`.\")\n"
     ]
    },
    {
     "name": "stdout",
     "output_type": "stream",
     "text": [
      "['Food', 'Condition']\n"
     ]
    },
    {
     "name": "stderr",
     "output_type": "stream",
     "text": [
      "c:\\users\\bishw\\appdata\\local\\programs\\python\\python38\\lib\\site-packages\\transformers\\tokenization_utils_base.py:2227: UserWarning: `max_length` is ignored when `padding`=`True`.\n",
      "  warnings.warn(\"`max_length` is ignored when `padding`=`True`.\")\n"
     ]
    },
    {
     "name": "stdout",
     "output_type": "stream",
     "text": [
      "['Crime', 'News']\n"
     ]
    },
    {
     "name": "stderr",
     "output_type": "stream",
     "text": [
      "c:\\users\\bishw\\appdata\\local\\programs\\python\\python38\\lib\\site-packages\\transformers\\tokenization_utils_base.py:2227: UserWarning: `max_length` is ignored when `padding`=`True`.\n",
      "  warnings.warn(\"`max_length` is ignored when `padding`=`True`.\")\n"
     ]
    },
    {
     "name": "stdout",
     "output_type": "stream",
     "text": [
      "['Commerce', 'Interest']\n"
     ]
    },
    {
     "name": "stderr",
     "output_type": "stream",
     "text": [
      "c:\\users\\bishw\\appdata\\local\\programs\\python\\python38\\lib\\site-packages\\transformers\\tokenization_utils_base.py:2227: UserWarning: `max_length` is ignored when `padding`=`True`.\n",
      "  warnings.warn(\"`max_length` is ignored when `padding`=`True`.\")\n"
     ]
    },
    {
     "name": "stdout",
     "output_type": "stream",
     "text": [
      "['News', 'Assets']\n"
     ]
    },
    {
     "name": "stderr",
     "output_type": "stream",
     "text": [
      "c:\\users\\bishw\\appdata\\local\\programs\\python\\python38\\lib\\site-packages\\transformers\\tokenization_utils_base.py:2227: UserWarning: `max_length` is ignored when `padding`=`True`.\n",
      "  warnings.warn(\"`max_length` is ignored when `padding`=`True`.\")\n"
     ]
    },
    {
     "name": "stdout",
     "output_type": "stream",
     "text": [
      "['Disagreement', 'News']\n"
     ]
    },
    {
     "name": "stderr",
     "output_type": "stream",
     "text": [
      "c:\\users\\bishw\\appdata\\local\\programs\\python\\python38\\lib\\site-packages\\transformers\\tokenization_utils_base.py:2227: UserWarning: `max_length` is ignored when `padding`=`True`.\n",
      "  warnings.warn(\"`max_length` is ignored when `padding`=`True`.\")\n"
     ]
    },
    {
     "name": "stdout",
     "output_type": "stream",
     "text": [
      "['Positive Identification', 'Sanction']\n"
     ]
    },
    {
     "name": "stderr",
     "output_type": "stream",
     "text": [
      "c:\\users\\bishw\\appdata\\local\\programs\\python\\python38\\lib\\site-packages\\transformers\\tokenization_utils_base.py:2227: UserWarning: `max_length` is ignored when `padding`=`True`.\n",
      "  warnings.warn(\"`max_length` is ignored when `padding`=`True`.\")\n"
     ]
    },
    {
     "name": "stdout",
     "output_type": "stream",
     "text": [
      "['Indebtedness', 'Liabilities']\n"
     ]
    },
    {
     "name": "stderr",
     "output_type": "stream",
     "text": [
      "c:\\users\\bishw\\appdata\\local\\programs\\python\\python38\\lib\\site-packages\\transformers\\tokenization_utils_base.py:2227: UserWarning: `max_length` is ignored when `padding`=`True`.\n",
      "  warnings.warn(\"`max_length` is ignored when `padding`=`True`.\")\n"
     ]
    },
    {
     "name": "stdout",
     "output_type": "stream",
     "text": [
      "['Series', 'Time Period']\n"
     ]
    }
   ],
   "source": [
    "for k,v in cluster_map_1.items():\n",
    "    try:\n",
    "        print(zsmodel.find_topic(cluster_map_1.get(k)))\n",
    "    except Exception as e:\n",
    "        print(f\"Not available for {k}\")\n",
    "        continue"
   ]
  },
  {
   "cell_type": "markdown",
   "id": "a0d20190",
   "metadata": {},
   "source": [
    "# Comparing with keybert"
   ]
  },
  {
   "cell_type": "code",
   "execution_count": 12,
   "id": "290f14bd",
   "metadata": {},
   "outputs": [],
   "source": [
    "from keybert import KeyBERT"
   ]
  },
  {
   "cell_type": "code",
   "execution_count": 13,
   "id": "a60d3008",
   "metadata": {
    "scrolled": false
   },
   "outputs": [
    {
     "name": "stderr",
     "output_type": "stream",
     "text": [
      "c:\\users\\bishw\\appdata\\local\\programs\\python\\python38\\lib\\site-packages\\transformers\\configuration_utils.py:336: UserWarning: Passing `gradient_checkpointing` to a config initialization is deprecated and will be removed in v5 Transformers. Using `model.gradient_checkpointing_enable()` instead, or if you are using the `Trainer` API, pass `gradient_checkpointing=True` in your `TrainingArguments`.\n",
      "  warnings.warn(\n"
     ]
    },
    {
     "name": "stdout",
     "output_type": "stream",
     "text": [
      "[]\n"
     ]
    },
    {
     "name": "stderr",
     "output_type": "stream",
     "text": [
      "c:\\users\\bishw\\appdata\\local\\programs\\python\\python38\\lib\\site-packages\\transformers\\tokenization_utils_base.py:2227: UserWarning: `max_length` is ignored when `padding`=`True`.\n",
      "  warnings.warn(\"`max_length` is ignored when `padding`=`True`.\")\n"
     ]
    },
    {
     "name": "stdout",
     "output_type": "stream",
     "text": [
      "[('xxxx18', 0.3262), ('xxxx xxxxxxxxxxxx', 0.3201), ('ok xxxxxx', 0.3144), ('xxxx5', 0.3144), ('already xxxx', 0.311)]\n"
     ]
    },
    {
     "name": "stderr",
     "output_type": "stream",
     "text": [
      "c:\\users\\bishw\\appdata\\local\\programs\\python\\python38\\lib\\site-packages\\transformers\\tokenization_utils_base.py:2227: UserWarning: `max_length` is ignored when `padding`=`True`.\n",
      "  warnings.warn(\"`max_length` is ignored when `padding`=`True`.\")\n"
     ]
    },
    {
     "name": "stdout",
     "output_type": "stream",
     "text": [
      "[('help give', 0.3021), ('please help', 0.2757), ('help help', 0.2688), ('help assist', 0.2608), ('help please', 0.2496)]\n"
     ]
    },
    {
     "name": "stderr",
     "output_type": "stream",
     "text": [
      "c:\\users\\bishw\\appdata\\local\\programs\\python\\python38\\lib\\site-packages\\transformers\\tokenization_utils_base.py:2227: UserWarning: `max_length` is ignored when `padding`=`True`.\n",
      "  warnings.warn(\"`max_length` is ignored when `padding`=`True`.\")\n"
     ]
    },
    {
     "name": "stdout",
     "output_type": "stream",
     "text": [
      "[('thank thank', 0.1957), ('thank thanks', 0.178), ('thank', 0.1517), ('thanks thanks', 0.1443), ('thanks', 0.0808)]\n"
     ]
    },
    {
     "name": "stderr",
     "output_type": "stream",
     "text": [
      "c:\\users\\bishw\\appdata\\local\\programs\\python\\python38\\lib\\site-packages\\transformers\\tokenization_utils_base.py:2227: UserWarning: `max_length` is ignored when `padding`=`True`.\n",
      "  warnings.warn(\"`max_length` is ignored when `padding`=`True`.\")\n"
     ]
    },
    {
     "name": "stdout",
     "output_type": "stream",
     "text": [
      "[('account report', 0.592), ('credit reports', 0.579), ('report account', 0.5773), ('accounts reporting', 0.5691), ('account reporting', 0.5664)]\n"
     ]
    },
    {
     "name": "stderr",
     "output_type": "stream",
     "text": [
      "c:\\users\\bishw\\appdata\\local\\programs\\python\\python38\\lib\\site-packages\\transformers\\tokenization_utils_base.py:2227: UserWarning: `max_length` is ignored when `padding`=`True`.\n",
      "  warnings.warn(\"`max_length` is ignored when `padding`=`True`.\")\n"
     ]
    },
    {
     "name": "stdout",
     "output_type": "stream",
     "text": [
      "[('payment finished', 0.6189), ('payment processing', 0.5961), ('payments made', 0.5943), ('payments follows', 0.5841), ('payments received', 0.5833)]\n"
     ]
    },
    {
     "name": "stderr",
     "output_type": "stream",
     "text": [
      "c:\\users\\bishw\\appdata\\local\\programs\\python\\python38\\lib\\site-packages\\transformers\\tokenization_utils_base.py:2227: UserWarning: `max_length` is ignored when `padding`=`True`.\n",
      "  warnings.warn(\"`max_length` is ignored when `padding`=`True`.\")\n"
     ]
    },
    {
     "name": "stdout",
     "output_type": "stream",
     "text": [
      "[('inquiries removed', 0.5808), ('remove inquiries', 0.566), ('creditor remove', 0.5647), ('removed credit', 0.5478), ('remove inquiry', 0.5442)]\n"
     ]
    },
    {
     "name": "stderr",
     "output_type": "stream",
     "text": [
      "c:\\users\\bishw\\appdata\\local\\programs\\python\\python38\\lib\\site-packages\\transformers\\tokenization_utils_base.py:2227: UserWarning: `max_length` is ignored when `padding`=`True`.\n",
      "  warnings.warn(\"`max_length` is ignored when `padding`=`True`.\")\n"
     ]
    },
    {
     "name": "stdout",
     "output_type": "stream",
     "text": [
      "[('identity theft', 0.4858), ('theft identity', 0.4609), ('stole identity', 0.4306), ('identity stolen', 0.4268), ('breaches victim', 0.4232)]\n"
     ]
    },
    {
     "name": "stderr",
     "output_type": "stream",
     "text": [
      "c:\\users\\bishw\\appdata\\local\\programs\\python\\python38\\lib\\site-packages\\transformers\\tokenization_utils_base.py:2227: UserWarning: `max_length` is ignored when `padding`=`True`.\n",
      "  warnings.warn(\"`max_length` is ignored when `padding`=`True`.\")\n"
     ]
    },
    {
     "name": "stdout",
     "output_type": "stream",
     "text": [
      "[('payments late', 0.5696), ('late payments', 0.5662), ('payment late', 0.5416), ('late payment', 0.5385), ('late credit', 0.5347)]\n"
     ]
    },
    {
     "name": "stderr",
     "output_type": "stream",
     "text": [
      "c:\\users\\bishw\\appdata\\local\\programs\\python\\python38\\lib\\site-packages\\transformers\\tokenization_utils_base.py:2227: UserWarning: `max_length` is ignored when `padding`=`True`.\n",
      "  warnings.warn(\"`max_length` is ignored when `padding`=`True`.\")\n"
     ]
    },
    {
     "name": "stdout",
     "output_type": "stream",
     "text": [
      "[('received debt', 0.6603), ('debt received', 0.6515), ('debt attempt', 0.6447), ('collecting debt', 0.6418), ('collect debt', 0.6416)]\n"
     ]
    },
    {
     "name": "stderr",
     "output_type": "stream",
     "text": [
      "c:\\users\\bishw\\appdata\\local\\programs\\python\\python38\\lib\\site-packages\\transformers\\tokenization_utils_base.py:2227: UserWarning: `max_length` is ignored when `padding`=`True`.\n",
      "  warnings.warn(\"`max_length` is ignored when `padding`=`True`.\")\n"
     ]
    },
    {
     "name": "stdout",
     "output_type": "stream",
     "text": [
      "[('equifax report', 0.6955), ('equifax reports', 0.6926), ('equifax reporting', 0.6846), ('reported equifax', 0.6835), ('report equifax', 0.6812)]\n"
     ]
    },
    {
     "name": "stderr",
     "output_type": "stream",
     "text": [
      "c:\\users\\bishw\\appdata\\local\\programs\\python\\python38\\lib\\site-packages\\transformers\\tokenization_utils_base.py:2227: UserWarning: `max_length` is ignored when `padding`=`True`.\n",
      "  warnings.warn(\"`max_length` is ignored when `padding`=`True`.\")\n"
     ]
    },
    {
     "name": "stdout",
     "output_type": "stream",
     "text": [
      "[('checking account', 0.5121), ('account paid', 0.4978), ('account number', 0.486), ('paid account', 0.4805), ('bank xxxx', 0.4749)]\n"
     ]
    },
    {
     "name": "stderr",
     "output_type": "stream",
     "text": [
      "c:\\users\\bishw\\appdata\\local\\programs\\python\\python38\\lib\\site-packages\\transformers\\tokenization_utils_base.py:2227: UserWarning: `max_length` is ignored when `padding`=`True`.\n",
      "  warnings.warn(\"`max_length` is ignored when `padding`=`True`.\")\n"
     ]
    },
    {
     "name": "stdout",
     "output_type": "stream",
     "text": [
      "[('debt validated', 0.7242), ('validate debt', 0.7106), ('validation debts', 0.7094), ('validation debt', 0.709), ('verification debt', 0.7064)]\n"
     ]
    },
    {
     "name": "stderr",
     "output_type": "stream",
     "text": [
      "c:\\users\\bishw\\appdata\\local\\programs\\python\\python38\\lib\\site-packages\\transformers\\tokenization_utils_base.py:2227: UserWarning: `max_length` is ignored when `padding`=`True`.\n",
      "  warnings.warn(\"`max_length` is ignored when `padding`=`True`.\")\n"
     ]
    },
    {
     "name": "stdout",
     "output_type": "stream",
     "text": [
      "[('report credit', 0.5552), ('credit reporting', 0.5488), ('credit report', 0.5414), ('credit act', 0.5089), ('creditor violation', 0.4817)]\n"
     ]
    },
    {
     "name": "stderr",
     "output_type": "stream",
     "text": [
      "c:\\users\\bishw\\appdata\\local\\programs\\python\\python38\\lib\\site-packages\\transformers\\tokenization_utils_base.py:2227: UserWarning: `max_length` is ignored when `padding`=`True`.\n",
      "  warnings.warn(\"`max_length` is ignored when `padding`=`True`.\")\n"
     ]
    },
    {
     "name": "stdout",
     "output_type": "stream",
     "text": [
      "[('received calls', 0.5513), ('call received', 0.5156), ('received phone', 0.5085), ('call receiving', 0.5037), ('received call', 0.4971)]\n"
     ]
    },
    {
     "name": "stderr",
     "output_type": "stream",
     "text": [
      "c:\\users\\bishw\\appdata\\local\\programs\\python\\python38\\lib\\site-packages\\transformers\\tokenization_utils_base.py:2227: UserWarning: `max_length` is ignored when `padding`=`True`.\n",
      "  warnings.warn(\"`max_length` is ignored when `padding`=`True`.\")\n"
     ]
    },
    {
     "name": "stdout",
     "output_type": "stream",
     "text": [
      "[('regarding complaint', 0.6833), ('complaint issued', 0.664), ('complaint filed', 0.6414), ('submitted complaint', 0.6305), ('complaint portal', 0.6244)]\n"
     ]
    },
    {
     "name": "stderr",
     "output_type": "stream",
     "text": [
      "c:\\users\\bishw\\appdata\\local\\programs\\python\\python38\\lib\\site-packages\\transformers\\tokenization_utils_base.py:2227: UserWarning: `max_length` is ignored when `padding`=`True`.\n",
      "  warnings.warn(\"`max_length` is ignored when `padding`=`True`.\")\n"
     ]
    },
    {
     "name": "stdout",
     "output_type": "stream",
     "text": [
      "[('xxxx12', 0.3929), ('xxxx xxxx7', 0.3892), ('xxxxxxxx following', 0.3891), ('xxxx xxxxxxxxxxxx', 0.3865), ('xxxx13', 0.3844)]\n"
     ]
    },
    {
     "name": "stderr",
     "output_type": "stream",
     "text": [
      "c:\\users\\bishw\\appdata\\local\\programs\\python\\python38\\lib\\site-packages\\transformers\\tokenization_utils_base.py:2227: UserWarning: `max_length` is ignored when `padding`=`True`.\n",
      "  warnings.warn(\"`max_length` is ignored when `padding`=`True`.\")\n"
     ]
    },
    {
     "name": "stdout",
     "output_type": "stream",
     "text": [
      "[('cfpb complaint', 0.6772), ('complaint cfpb', 0.6739), ('complaint cfbp', 0.666), ('complaint filed', 0.6433), ('filing complaint', 0.6277)]\n"
     ]
    },
    {
     "name": "stderr",
     "output_type": "stream",
     "text": [
      "c:\\users\\bishw\\appdata\\local\\programs\\python\\python38\\lib\\site-packages\\transformers\\tokenization_utils_base.py:2227: UserWarning: `max_length` is ignored when `padding`=`True`.\n",
      "  warnings.warn(\"`max_length` is ignored when `padding`=`True`.\")\n"
     ]
    },
    {
     "name": "stdout",
     "output_type": "stream",
     "text": [
      "[('closed accounts', 0.6064), ('closed account', 0.57), ('account closed', 0.5638), ('account reopen', 0.5524), ('reopen account', 0.5447)]\n"
     ]
    },
    {
     "name": "stderr",
     "output_type": "stream",
     "text": [
      "c:\\users\\bishw\\appdata\\local\\programs\\python\\python38\\lib\\site-packages\\transformers\\tokenization_utils_base.py:2227: UserWarning: `max_length` is ignored when `padding`=`True`.\n",
      "  warnings.warn(\"`max_length` is ignored when `padding`=`True`.\")\n"
     ]
    },
    {
     "name": "stdout",
     "output_type": "stream",
     "text": [
      "[('letter sincerely', 0.4361), ('sincerely xxxx', 0.4339), ('xxxx sincerely', 0.4178), ('xxxx email', 0.3889), ('email xxxx', 0.3756)]\n"
     ]
    },
    {
     "name": "stderr",
     "output_type": "stream",
     "text": [
      "c:\\users\\bishw\\appdata\\local\\programs\\python\\python38\\lib\\site-packages\\transformers\\tokenization_utils_base.py:2227: UserWarning: `max_length` is ignored when `padding`=`True`.\n",
      "  warnings.warn(\"`max_length` is ignored when `padding`=`True`.\")\n"
     ]
    },
    {
     "name": "stdout",
     "output_type": "stream",
     "text": [
      "[('bankruptcy filed', 0.6697), ('filed bankruptcy', 0.6681), ('bankruptcy chapter', 0.6633), ('bankruptcy completed', 0.6625), ('file bankruptcy', 0.6503)]\n"
     ]
    },
    {
     "name": "stderr",
     "output_type": "stream",
     "text": [
      "c:\\users\\bishw\\appdata\\local\\programs\\python\\python38\\lib\\site-packages\\transformers\\tokenization_utils_base.py:2227: UserWarning: `max_length` is ignored when `padding`=`True`.\n",
      "  warnings.warn(\"`max_length` is ignored when `padding`=`True`.\")\n"
     ]
    },
    {
     "name": "stdout",
     "output_type": "stream",
     "text": [
      "[('letter received', 0.586), ('received letter', 0.5801), ('letters received', 0.5719), ('letter overnight', 0.4993), ('receive letter', 0.4948)]\n"
     ]
    },
    {
     "name": "stderr",
     "output_type": "stream",
     "text": [
      "c:\\users\\bishw\\appdata\\local\\programs\\python\\python38\\lib\\site-packages\\transformers\\tokenization_utils_base.py:2227: UserWarning: `max_length` is ignored when `padding`=`True`.\n",
      "  warnings.warn(\"`max_length` is ignored when `padding`=`True`.\")\n"
     ]
    },
    {
     "name": "stdout",
     "output_type": "stream",
     "text": [
      "[('collector debt', 0.7239), ('debt collector', 0.7092), ('debt collectors', 0.6839), ('collect debt', 0.6254), ('debt commission', 0.5688)]\n"
     ]
    },
    {
     "name": "stderr",
     "output_type": "stream",
     "text": [
      "c:\\users\\bishw\\appdata\\local\\programs\\python\\python38\\lib\\site-packages\\transformers\\tokenization_utils_base.py:2227: UserWarning: `max_length` is ignored when `padding`=`True`.\n",
      "  warnings.warn(\"`max_length` is ignored when `padding`=`True`.\")\n"
     ]
    },
    {
     "name": "stdout",
     "output_type": "stream",
     "text": [
      "[('block information', 0.5681), ('block reporting', 0.5375), ('blocked information', 0.4657), ('block except', 0.4568), ('block consumer', 0.4476)]\n"
     ]
    },
    {
     "name": "stderr",
     "output_type": "stream",
     "text": [
      "c:\\users\\bishw\\appdata\\local\\programs\\python\\python38\\lib\\site-packages\\transformers\\tokenization_utils_base.py:2227: UserWarning: `max_length` is ignored when `padding`=`True`.\n",
      "  warnings.warn(\"`max_length` is ignored when `padding`=`True`.\")\n"
     ]
    },
    {
     "name": "stdout",
     "output_type": "stream",
     "text": [
      "[('account fraudulent', 0.7375), ('fraudulent account', 0.7323), ('accounts fraudulent', 0.7221), ('account fraudulently', 0.7171), ('fraudulent accounts', 0.7152)]\n"
     ]
    },
    {
     "name": "stderr",
     "output_type": "stream",
     "text": [
      "c:\\users\\bishw\\appdata\\local\\programs\\python\\python38\\lib\\site-packages\\transformers\\tokenization_utils_base.py:2227: UserWarning: `max_length` is ignored when `padding`=`True`.\n",
      "  warnings.warn(\"`max_length` is ignored when `padding`=`True`.\")\n"
     ]
    },
    {
     "name": "stdout",
     "output_type": "stream",
     "text": [
      "[('fees late', 0.6506), ('payment late', 0.6314), ('late fees', 0.6302), ('late payment', 0.6256), ('payment charged', 0.614)]\n"
     ]
    },
    {
     "name": "stderr",
     "output_type": "stream",
     "text": [
      "c:\\users\\bishw\\appdata\\local\\programs\\python\\python38\\lib\\site-packages\\transformers\\tokenization_utils_base.py:2227: UserWarning: `max_length` is ignored when `padding`=`True`.\n",
      "  warnings.warn(\"`max_length` is ignored when `padding`=`True`.\")\n"
     ]
    },
    {
     "name": "stdout",
     "output_type": "stream",
     "text": [
      "[('affecting credit', 0.5579), ('harming credit', 0.5424), ('affected credit', 0.5106), ('effected credit', 0.5091), ('impacting credit', 0.5041)]\n"
     ]
    },
    {
     "name": "stderr",
     "output_type": "stream",
     "text": [
      "c:\\users\\bishw\\appdata\\local\\programs\\python\\python38\\lib\\site-packages\\transformers\\tokenization_utils_base.py:2227: UserWarning: `max_length` is ignored when `padding`=`True`.\n",
      "  warnings.warn(\"`max_length` is ignored when `padding`=`True`.\")\n"
     ]
    },
    {
     "name": "stdout",
     "output_type": "stream",
     "text": [
      "[('account disputed', 0.6683), ('disputed account', 0.6674), ('account dispute', 0.5983), ('disputed verification', 0.5813), ('disputed xxxx', 0.5779)]\n"
     ]
    },
    {
     "name": "stderr",
     "output_type": "stream",
     "text": [
      "c:\\users\\bishw\\appdata\\local\\programs\\python\\python38\\lib\\site-packages\\transformers\\tokenization_utils_base.py:2227: UserWarning: `max_length` is ignored when `padding`=`True`.\n",
      "  warnings.warn(\"`max_length` is ignored when `padding`=`True`.\")\n"
     ]
    },
    {
     "name": "stdout",
     "output_type": "stream",
     "text": [
      "[('card citibank', 0.5356), ('card number', 0.529), ('mastercard store', 0.4829), ('card mastercard', 0.4815), ('express credit', 0.4777)]\n"
     ]
    },
    {
     "name": "stderr",
     "output_type": "stream",
     "text": [
      "c:\\users\\bishw\\appdata\\local\\programs\\python\\python38\\lib\\site-packages\\transformers\\tokenization_utils_base.py:2227: UserWarning: `max_length` is ignored when `padding`=`True`.\n",
      "  warnings.warn(\"`max_length` is ignored when `padding`=`True`.\")\n"
     ]
    },
    {
     "name": "stdout",
     "output_type": "stream",
     "text": [
      "[('validation debt', 0.5678), ('validity debt', 0.566), ('debt validation', 0.5574), ('debt request', 0.5471), ('verified debt', 0.5413)]\n",
      "[('payments monthly', 0.5592), ('monthly payments', 0.5585), ('monthly payment', 0.5369), ('time monthly', 0.5203), ('payments making', 0.516)]\n"
     ]
    },
    {
     "name": "stderr",
     "output_type": "stream",
     "text": [
      "c:\\users\\bishw\\appdata\\local\\programs\\python\\python38\\lib\\site-packages\\transformers\\tokenization_utils_base.py:2227: UserWarning: `max_length` is ignored when `padding`=`True`.\n",
      "  warnings.warn(\"`max_length` is ignored when `padding`=`True`.\")\n"
     ]
    }
   ],
   "source": [
    "kw_model = KeyBERT()\n",
    "for k,v in cluster_map_1.items():\n",
    "    try:\n",
    "        print(kw_model.extract_keywords(cluster_map_1.get(k), keyphrase_ngram_range=(1, 2), stop_words=None))\n",
    "    except Exception as e:\n",
    "        print(f\"Not available for {k}\")\n",
    "        continue\n",
    "    \n"
   ]
  }
 ],
 "metadata": {
  "kernelspec": {
   "display_name": "Python 3 (ipykernel)",
   "language": "python",
   "name": "python3"
  },
  "language_info": {
   "codemirror_mode": {
    "name": "ipython",
    "version": 3
   },
   "file_extension": ".py",
   "mimetype": "text/x-python",
   "name": "python",
   "nbconvert_exporter": "python",
   "pygments_lexer": "ipython3",
   "version": "3.8.0"
  }
 },
 "nbformat": 4,
 "nbformat_minor": 5
}
